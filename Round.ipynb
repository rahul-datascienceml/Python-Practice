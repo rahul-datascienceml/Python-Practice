{
 "cells": [
  {
   "cell_type": "markdown",
   "id": "e1f7b833-0361-4a8b-9617-9303b5c0793b",
   "metadata": {},
   "source": [
    "**Round**\n",
    "\n",
    "- This concept is used to limit the places after the decimal in float value.\n",
    "- The syntax for this is **round(number,decimal places)** for example **round(40.45678,2) = 40.46**"
   ]
  },
  {
   "cell_type": "code",
   "execution_count": 3,
   "id": "e9f45076-ded5-43a6-9cd0-79734c7023bc",
   "metadata": {},
   "outputs": [
    {
     "name": "stdout",
     "output_type": "stream",
     "text": [
      "The average of the 10, 20 and 40 is 23.333333333333332.\n"
     ]
    }
   ],
   "source": [
    "#Average of 3 numbers and output using f String Concept:\n",
    "n1=10\n",
    "n2=20\n",
    "n3=40\n",
    "avg=(n1+n2+n3)/3\n",
    "print(f'The average of the {n1}, {n2} and {n3} is {avg}.')"
   ]
  },
  {
   "cell_type": "code",
   "execution_count": 5,
   "id": "5a73bb25-ad51-41a5-96f4-fa552a7b93f2",
   "metadata": {},
   "outputs": [
    {
     "name": "stdout",
     "output_type": "stream",
     "text": [
      "The average of the 10, 20 and 40 is 23.333333333333332.\n"
     ]
    }
   ],
   "source": [
    "#Average of 3 numbers and output using .format concept:\n",
    "n1=10\n",
    "n2=20\n",
    "n3=40\n",
    "avg=(n1+n2+n3)/3\n",
    "print('The average of the {}, {} and {} is {}.'.format(n1,n2,n3,avg))"
   ]
  },
  {
   "cell_type": "code",
   "execution_count": 7,
   "id": "c8c466ea-dda5-469c-9c69-c89b22f9bb8d",
   "metadata": {},
   "outputs": [
    {
     "data": {
      "text/plain": [
       "41"
      ]
     },
     "execution_count": 7,
     "metadata": {},
     "output_type": "execute_result"
    }
   ],
   "source": [
    "round(40.5678) #did not provided the decimal points hence it choses 0 as decimal points hence converted the actual number"
   ]
  },
  {
   "cell_type": "code",
   "execution_count": 9,
   "id": "3f4b84ee-cc76-4403-a308-60ff37e1c6c6",
   "metadata": {},
   "outputs": [
    {
     "data": {
      "text/plain": [
       "40.57"
      ]
     },
     "execution_count": 9,
     "metadata": {},
     "output_type": "execute_result"
    }
   ],
   "source": [
    "round(40.5678,2) #Here we provided 2 decimal points hence the answer will be rounded of till 2nd decimal point"
   ]
  },
  {
   "cell_type": "code",
   "execution_count": 20,
   "id": "6fd54aa8-edc4-48d4-91e8-e71b577ab67d",
   "metadata": {},
   "outputs": [
    {
     "name": "stdout",
     "output_type": "stream",
     "text": [
      "The average of the 10, 20 and 40 is 23.33.\n"
     ]
    }
   ],
   "source": [
    "#Average of 3 numbers and output using f String Concept and Round Concept:\n",
    "n1=10\n",
    "n2=20\n",
    "n3=40\n",
    "avg=(n1+n2+n3)/3\n",
    "avg=round(avg,2)\n",
    "print(f'The average of the {n1}, {n2} and {n3} is {avg}.')"
   ]
  },
  {
   "cell_type": "code",
   "execution_count": 41,
   "id": "c5315dea-e949-49c4-bfd1-668af98e5fb6",
   "metadata": {},
   "outputs": [
    {
     "name": "stdout",
     "output_type": "stream",
     "text": [
      "The average of the 10, 20 and 40 is 23.33.\n"
     ]
    }
   ],
   "source": [
    "#Average of 3 numbers and output using f String Concept and Round Concept:\n",
    "n1=10\n",
    "n2=20\n",
    "n3=40\n",
    "avg=round((n1+n2+n3)/3,2)\n",
    "print(f'The average of the {n1}, {n2} and {n3} is {avg}.')"
   ]
  },
  {
   "cell_type": "code",
   "execution_count": 45,
   "id": "9bef8357-4e01-4555-b0b2-d7c364aca937",
   "metadata": {},
   "outputs": [
    {
     "name": "stdout",
     "output_type": "stream",
     "text": [
      "The area of the triangle which has hight of 205 and length of 15 will be 1537.5\n"
     ]
    }
   ],
   "source": [
    "# Program to find the area of a right angle triangle and provided base and hight\n",
    "len=15\n",
    "hight=205\n",
    "area = round((0.5*len*hight),2)\n",
    "print(f'The area of the triangle which has hight of {hight} and length of {len} will be {area}')"
   ]
  },
  {
   "cell_type": "code",
   "execution_count": 36,
   "id": "dadab0fd-af29-4875-8867-84baae3d2777",
   "metadata": {},
   "outputs": [
    {
     "name": "stdout",
     "output_type": "stream",
     "text": [
      "The area of the circle which has radius of 15 will be 707.14\n"
     ]
    }
   ],
   "source": [
    "# Program to find the area of a circle  and provided radius\n",
    "rad=15\n",
    "pi=22/7\n",
    "area = round((pi*rad*rad),2)\n",
    "print(f'The area of the circle which has radius of {rad} will be {area}')"
   ]
  },
  {
   "cell_type": "code",
   "execution_count": 34,
   "id": "8903d06b-32e4-4220-8cae-021042d01770",
   "metadata": {},
   "outputs": [
    {
     "name": "stdout",
     "output_type": "stream",
     "text": [
      "The area of the rectangle which has hight of 205 and length of 15 will be 3075\n"
     ]
    }
   ],
   "source": [
    "# Program to find the area of a rectangle  and provided base and hight\n",
    "len=15\n",
    "hight=205\n",
    "area = round((len*hight),2)\n",
    "print(f'The area of the rectangle which has hight of {hight} and length of {len} will be {area}')"
   ]
  },
  {
   "cell_type": "code",
   "execution_count": 38,
   "id": "de058f04-3a99-4dcf-a775-1517975a0943",
   "metadata": {},
   "outputs": [
    {
     "name": "stdout",
     "output_type": "stream",
     "text": [
      "Son: Hey Dad!!!\n",
      "Dad: Hi Beta!!!\n",
      "Son: Whatsup Dad!!!\n",
      "Dad: I got to know your results are out\n",
      "Son: Yes Dad, my results are out today\n",
      "Dad: Did you pass in the exams?\n",
      "Son: Yes Dad, I am your son why wouldn't I pass the exam\n",
      "Dad: How much percentage did you score?\n",
      "Son: I will tell you the individual score and you will calculate the percentage for me from total marks of 500\n",
      "Son says: Hindi: 89, English: 98, Maths: 100, Science: 98, Biology: 78\n",
      "Dad: Hey Son you scored total marks 463 and your percent of marks is 92.6, so you will get a booz treat from me today\n"
     ]
    }
   ],
   "source": [
    "#A conversation between son and father on result day and son is telling about the results.\n",
    "\n",
    "hin=89\n",
    "eng=98\n",
    "mat=100\n",
    "sci=98\n",
    "bio=78\n",
    "sum_marks=hin+eng+mat+sci+bio\n",
    "total=500\n",
    "percent=(sum_marks*100)/total\n",
    "\n",
    "print('Son: Hey Dad!!!')\n",
    "print('Dad: Hi Beta!!!')\n",
    "print('Son: Whatsup Dad!!!')\n",
    "print('Dad: I got to know your results are out')\n",
    "print('Son: Yes Dad, my results are out today')\n",
    "print('Dad: Did you pass in the exams?')\n",
    "print(\"Son: Yes Dad, I am your son why wouldn't I pass the exam\")\n",
    "print('Dad: How much percentage did you score?')\n",
    "print('Son: I will tell you the individual score and you will calculate the percentage for me from total marks of 500')\n",
    "print(f'Son says: Hindi: {hin}, English: {eng}, Maths: {mat}, Science: {sci}, Biology: {bio}')\n",
    "print(f'Dad: Hey Son you scored total marks {sum_marks} and your percent of marks is {percent}, so you will get a booz treat from me today')\n",
    "\n",
    "\n"
   ]
  },
  {
   "cell_type": "code",
   "execution_count": null,
   "id": "03cc8fe8-5897-4678-a92e-ea0bc6f8558f",
   "metadata": {},
   "outputs": [],
   "source": []
  }
 ],
 "metadata": {
  "kernelspec": {
   "display_name": "Python 3 (ipykernel)",
   "language": "python",
   "name": "python3"
  },
  "language_info": {
   "codemirror_mode": {
    "name": "ipython",
    "version": 3
   },
   "file_extension": ".py",
   "mimetype": "text/x-python",
   "name": "python",
   "nbconvert_exporter": "python",
   "pygments_lexer": "ipython3",
   "version": "3.12.4"
  }
 },
 "nbformat": 4,
 "nbformat_minor": 5
}
