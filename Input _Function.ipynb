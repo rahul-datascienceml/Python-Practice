{
 "cells": [
  {
   "cell_type": "markdown",
   "id": "c71716d4-6b85-4ab0-900f-288608e27928",
   "metadata": {},
   "source": [
    "## Input:"
   ]
  },
  {
   "cell_type": "markdown",
   "id": "fb488f75-1c89-48cd-b0d9-c25c6acc4896",
   "metadata": {},
   "source": [
    "**We can take the value of the variable from user directly using his keyboard.**\n",
    "- For Example: If there is an application form where we fill it, the information will be changed for every user.\n",
    "    - This will acheived by a keyword **input()**\n",
    "\n",
    "                                \n",
    "                                                                                        \n",
    "\n",
    "                                                                                        "
   ]
  },
  {
   "cell_type": "markdown",
   "id": "9a0b64ae-a39f-41b3-8ad5-149e1f94cd97",
   "metadata": {},
   "source": [
    "- after the **input()** execution there will be a new box will populate to take the input from user.\n",
    "- There will be 3 actions happens\n",
    "    - (*) Marks in front of the line\n",
    "    - Kernel will be busy\n",
    "    - one square box below the line"
   ]
  },
  {
   "cell_type": "markdown",
   "id": "6f43b1cb-89e1-43fb-9037-df99e1b50fc0",
   "metadata": {},
   "source": [
    "**Notes**\n",
    "\n",
    "- Whatever we type in square bracket, the output will be in quotes. The output default type is string data type.\n"
   ]
  },
  {
   "cell_type": "markdown",
   "id": "8e642fb8-973e-41a6-b19d-6de84a060027",
   "metadata": {},
   "source": [
    "**Eval**\n",
    "\n",
    "- Eval means the evaluation in Python\n",
    "- This belongs to mathematics family\n",
    "- It will convert integer value in interger\n",
    "- It will convert flaot value in float\n",
    "- Whenever we have eval function then we should avoid string"
   ]
  },
  {
   "cell_type": "markdown",
   "id": "35119178-3ede-40f5-b019-6c201e60e592",
   "metadata": {},
   "source": [
    "**Home-Work**\n",
    "\n",
    "- Ask the user for the input for the average.\n",
    "- ASk the user for the input to find the area of a triangle\n",
    "- Ask the user for the sides to calculate the are of rectangle\n",
    "- Ask the user for the radius and calculate area of circle\n",
    "- ASk the user how much bill amount and the tip percentage. Calculate the total bill.\n",
    "- \n"
   ]
  },
  {
   "cell_type": "code",
   "execution_count": 6,
   "id": "7e5e5cf2-f0f7-4958-889f-c3acb3af9181",
   "metadata": {},
   "outputs": [
    {
     "name": "stdin",
     "output_type": "stream",
     "text": [
      " Rahul\n"
     ]
    },
    {
     "data": {
      "text/plain": [
       "'Rahul'"
      ]
     },
     "execution_count": 6,
     "metadata": {},
     "output_type": "execute_result"
    }
   ],
   "source": [
    "input()"
   ]
  },
  {
   "cell_type": "code",
   "execution_count": 10,
   "id": "11bbdaa4-0db8-4145-a592-50b9ec7604af",
   "metadata": {},
   "outputs": [
    {
     "name": "stdin",
     "output_type": "stream",
     "text": [
      "name Rahul\n"
     ]
    },
    {
     "data": {
      "text/plain": [
       "'Rahul'"
      ]
     },
     "execution_count": 10,
     "metadata": {},
     "output_type": "execute_result"
    }
   ],
   "source": [
    "input('name')"
   ]
  },
  {
   "cell_type": "code",
   "execution_count": 18,
   "id": "7cc1a2d0-970b-4061-b376-0cce94872c85",
   "metadata": {},
   "outputs": [
    {
     "name": "stdin",
     "output_type": "stream",
     "text": [
      "Name Rahul Goyal\n",
      "Age 35\n",
      "City Jaipur\n"
     ]
    },
    {
     "name": "stdout",
     "output_type": "stream",
     "text": [
      "My name is Rahul Goyal, I am 35 years old and I belong to Jaipur.\n"
     ]
    }
   ],
   "source": [
    "a=input('Name')\n",
    "b=input('Age')\n",
    "c=input('City')\n",
    "print(f'My name is {a}, I am {int(b)} years old and I belong to {c}.')"
   ]
  },
  {
   "cell_type": "code",
   "execution_count": 26,
   "id": "9b9d5cf2-8330-4898-b79e-d212d7a30d25",
   "metadata": {},
   "outputs": [
    {
     "name": "stdin",
     "output_type": "stream",
     "text": [
      " 34\n"
     ]
    },
    {
     "data": {
      "text/plain": [
       "'34'"
      ]
     },
     "execution_count": 26,
     "metadata": {},
     "output_type": "execute_result"
    }
   ],
   "source": [
    "input()\n"
   ]
  },
  {
   "cell_type": "code",
   "execution_count": 30,
   "id": "de6ff3d3-72a5-4443-8ce4-e35774ae02c2",
   "metadata": {},
   "outputs": [
    {
     "name": "stdin",
     "output_type": "stream",
     "text": [
      "Name Rahul Goyal\n",
      "City Jaipur\n",
      "Country India\n"
     ]
    },
    {
     "name": "stdout",
     "output_type": "stream",
     "text": [
      "My name is Rahul Goyal, I am from Jaipur city and I belong to India.\n"
     ]
    }
   ],
   "source": [
    "a=input('Name')\n",
    "b=input('City')\n",
    "c=input('Country')\n",
    "print(f'My name is {a}, I am from {b} city and I belong to {c}.')"
   ]
  },
  {
   "cell_type": "code",
   "execution_count": 34,
   "id": "38c9ae2a-f611-4203-af6f-f285f38064c2",
   "metadata": {},
   "outputs": [
    {
     "name": "stdin",
     "output_type": "stream",
     "text": [
      "Enter the First Number: 3\n",
      "Enter the Second Number: 4\n"
     ]
    },
    {
     "name": "stdout",
     "output_type": "stream",
     "text": [
      "The sum of 3 and 4 is 7\n"
     ]
    }
   ],
   "source": [
    "n1=input('Enter the First Number:')\n",
    "n2=input('Enter the Second Number:')\n",
    "sum=int(n1)+int(n2)\n",
    "print(f'The sum of {n1} and {n2} is {sum}')\n"
   ]
  },
  {
   "cell_type": "code",
   "execution_count": 38,
   "id": "e8f11b20-6235-4dd6-b391-0cefc073b2a5",
   "metadata": {},
   "outputs": [
    {
     "name": "stdin",
     "output_type": "stream",
     "text": [
      "Enter the First Number: 4\n",
      "Enter the Second Number: 5\n"
     ]
    },
    {
     "name": "stdout",
     "output_type": "stream",
     "text": [
      "The sum of 4.0 and 5.0 is 9.0\n"
     ]
    }
   ],
   "source": [
    "n1= float(input('Enter the First Number:'))\n",
    "n2= float(input('Enter the Second Number:'))\n",
    "sum=n1+n2\n",
    "print(f'The sum of {n1} and {n2} is {sum}')"
   ]
  },
  {
   "cell_type": "code",
   "execution_count": 50,
   "id": "c98414a7-be9c-47aa-bae4-780a789df1b4",
   "metadata": {},
   "outputs": [
    {
     "name": "stdin",
     "output_type": "stream",
     "text": [
      "Enter the First Number: 34\n",
      "Enter the Second Number: 78\n"
     ]
    },
    {
     "name": "stdout",
     "output_type": "stream",
     "text": [
      "The sum of 34 and 78 is 112\n"
     ]
    }
   ],
   "source": [
    "n1= eval(input('Enter the First Number:'))\n",
    "n2= eval(input('Enter the Second Number:'))\n",
    "sum=n1+n2\n",
    "print(f'The sum of {n1} and {n2} is {sum}')"
   ]
  },
  {
   "cell_type": "code",
   "execution_count": null,
   "id": "1e521ff9-e971-4e24-b8c8-9c5407418f42",
   "metadata": {},
   "outputs": [],
   "source": []
  }
 ],
 "metadata": {
  "kernelspec": {
   "display_name": "Python 3 (ipykernel)",
   "language": "python",
   "name": "python3"
  },
  "language_info": {
   "codemirror_mode": {
    "name": "ipython",
    "version": 3
   },
   "file_extension": ".py",
   "mimetype": "text/x-python",
   "name": "python",
   "nbconvert_exporter": "python",
   "pygments_lexer": "ipython3",
   "version": "3.12.4"
  }
 },
 "nbformat": 4,
 "nbformat_minor": 5
}
