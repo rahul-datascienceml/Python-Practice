{
 "cells": [
  {
   "cell_type": "markdown",
   "id": "45dba289-65f6-4378-b37a-c19a8a30b297",
   "metadata": {},
   "source": [
    "**Que 1: Ask the user to enter a number. Print out the square of the number**"
   ]
  },
  {
   "cell_type": "code",
   "execution_count": 7,
   "id": "5cab71ca-3b3f-46a0-b18e-d6e18ff26a62",
   "metadata": {},
   "outputs": [
    {
     "name": "stdin",
     "output_type": "stream",
     "text": [
      "Please Enter A Number 5\n"
     ]
    },
    {
     "name": "stdout",
     "output_type": "stream",
     "text": [
      "The square of 5 is 25.\n"
     ]
    }
   ],
   "source": [
    "n1=int(input('Please Enter A Number')) #Asking user to input a number and converting in integer\n",
    "sq=n1*n1 #squaring the number\n",
    "print(f'The square of {n1} is {sq}.') #printing the desired output\n"
   ]
  },
  {
   "cell_type": "code",
   "execution_count": null,
   "id": "f29f3f2a-87fd-4dd0-8a26-2b5296f8292f",
   "metadata": {},
   "outputs": [],
   "source": []
  },
  {
   "cell_type": "markdown",
   "id": "a2a1de2d-b7eb-4858-a984-ae4c59bd4f36",
   "metadata": {},
   "source": [
    "**Que 2: Ask the user to enter a number x. print out x, 2x, 3x, 4x, and 5x,\n",
    "each separated by three dashes,**"
   ]
  },
  {
   "cell_type": "code",
   "execution_count": 10,
   "id": "f6829798-8e70-4b3e-91c1-5e9b61f68942",
   "metadata": {},
   "outputs": [
    {
     "name": "stdin",
     "output_type": "stream",
     "text": [
      "Please Enter A Number 5\n"
     ]
    },
    {
     "name": "stdout",
     "output_type": "stream",
     "text": [
      "5---10---15---20---25\n"
     ]
    }
   ],
   "source": [
    "n1=int(input('Please Enter A Number'))   #Asking user to input a number and converting in integer\n",
    "print(n1,2*n1,3*n1,4*n1,5*n1,sep='---') #printing the desired number separating by --- using sep function in print"
   ]
  },
  {
   "cell_type": "code",
   "execution_count": null,
   "id": "36fd6d81-f8e3-4997-a311-fb455c7cc42f",
   "metadata": {},
   "outputs": [],
   "source": []
  },
  {
   "cell_type": "markdown",
   "id": "da38a583-f151-484f-b82b-8cb32c0bd816",
   "metadata": {},
   "source": [
    "**Que 3: Write a program that asks the user for a weight in kilograms and\n",
    "converts it to pounds. There are 2.2 pounds in a kilogram.**"
   ]
  },
  {
   "cell_type": "code",
   "execution_count": 28,
   "id": "d9fbd789-d0bd-4616-9fae-36fdfccc88a6",
   "metadata": {},
   "outputs": [
    {
     "name": "stdin",
     "output_type": "stream",
     "text": [
      "Please help me your weight in Kilograms 68\n"
     ]
    },
    {
     "name": "stdout",
     "output_type": "stream",
     "text": [
      "As your weight in kgs is : 68 kilograms\n",
      "Your weight in pounds is : 149.6 pounds (lbs)\n"
     ]
    }
   ],
   "source": [
    "wt_kg =int(input('Please help me your weight in Kilograms')) #asking user for weight in kgs\n",
    "wt_pd = round(2.2 * wt_kg,2) #convering weight kgs to lbs\n",
    "print(f'As your weight in kgs is : {wt_kg} kilograms') #printing the weight in kgs just to acknowledge \n",
    "print(f'Your weight in pounds is : {wt_pd} pounds (lbs)') #printing the weight in pounds (lbs)\n"
   ]
  },
  {
   "cell_type": "code",
   "execution_count": null,
   "id": "d1f7d247-319d-4b31-be8d-a98668f1f71e",
   "metadata": {},
   "outputs": [],
   "source": []
  },
  {
   "cell_type": "markdown",
   "id": "5e9197ce-400c-4d8d-a605-ccd36f7372a4",
   "metadata": {},
   "source": [
    "**Que 4: Write a program that asks the user to enter three numbers (use three\n",
    "separate input statements).Create variables called total and average\n",
    "that hold the sum and average of the three numbers and print out the\n",
    "values of total and average.**"
   ]
  },
  {
   "cell_type": "code",
   "execution_count": 35,
   "id": "d8f44004-948f-4205-a4e0-e97dd6aa5b82",
   "metadata": {},
   "outputs": [
    {
     "name": "stdin",
     "output_type": "stream",
     "text": [
      "Please Enter First Number 3\n",
      "Please Enter Second Number 4\n",
      "Please Enter Third Number 6\n"
     ]
    },
    {
     "name": "stdout",
     "output_type": "stream",
     "text": [
      "The total of the numbers is: 13\n",
      "The average of the numbers is: 4.33\n"
     ]
    }
   ],
   "source": [
    "n1=int(input('Please Enter First Number')) #Asking user to input first number and converting in integer\n",
    "n2=int(input('Please Enter Second Number')) #Asking user to input second number and converting in integer\n",
    "n3=int(input('Please Enter Third Number')) #Asking user to input third number and converting in integer\n",
    "total= n1+n2+n3  #doing sum of numbers\n",
    "average = round(total/3,2)  #calculating the average of numbers and used round just to limit the average decimal to 2\n",
    "print(f'The total of the numbers is: {total}')  #printing the sum of numbers\n",
    "print(f'The average of the numbers is: {average}') #printing the average of numbers\n"
   ]
  },
  {
   "cell_type": "code",
   "execution_count": null,
   "id": "cb8dccfe-babc-47a8-ad7c-bc8971000bc4",
   "metadata": {},
   "outputs": [],
   "source": []
  },
  {
   "cell_type": "markdown",
   "id": "2b83f26d-d5de-4ace-9cd4-68e7910ae045",
   "metadata": {},
   "source": [
    "**Que 5: A lot of cell phones have tip calculators. Write one. Ask the user for\n",
    "the price of the meal and the percent tip they want to leave. Then\n",
    "print both the tip amount and the total bill with the tip included.**"
   ]
  },
  {
   "cell_type": "code",
   "execution_count": 45,
   "id": "6c1c1e9a-3a46-4b59-830c-a1740a5438c5",
   "metadata": {},
   "outputs": [
    {
     "name": "stdin",
     "output_type": "stream",
     "text": [
      "What is the price of meal? 1236.56\n",
      "What is the tip percent? 3.36\n"
     ]
    },
    {
     "name": "stdout",
     "output_type": "stream",
     "text": [
      "The tip amount for this bill is 41.55 rupees\n",
      "Your total bill including tip is : 1278.11 rupees\n"
     ]
    }
   ],
   "source": [
    "meal_price = eval(input('What is the price of meal?')) #asking for the bill amount \n",
    "tip = eval(input('What is the tip percent?')) #asking for the tip percentage\n",
    "tip_amount = round((meal_price*tip)/100,2)  #calculating the tip amount\n",
    "total_bill = round((meal_price + tip_amount),2) #calculating the total bill including tip\n",
    "print(f'The tip amount for this bill is {tip_amount} rupees') #printing the tip amount\n",
    "print(f'Your total bill including tip is : {total_bill} rupees') #printing the total bill including tip"
   ]
  },
  {
   "cell_type": "code",
   "execution_count": null,
   "id": "e8221dbf-4ba7-4724-9f40-b285ae3eee7b",
   "metadata": {},
   "outputs": [],
   "source": []
  },
  {
   "cell_type": "markdown",
   "id": "189df977-2749-4e21-b7b5-31c7d2b2f7dc",
   "metadata": {},
   "source": [
    "**Que 6: wap ask the user enter the 2 numbers find the subtraction,addition,\n",
    "multiplication and division**"
   ]
  },
  {
   "cell_type": "code",
   "execution_count": 52,
   "id": "717ea5f1-7a93-4f8d-9556-e3e1e31fdadb",
   "metadata": {},
   "outputs": [
    {
     "name": "stdin",
     "output_type": "stream",
     "text": [
      "Please enter the first number 3.555\n",
      "Please enter the second number except 0 in case of division 5.776\n"
     ]
    },
    {
     "name": "stdout",
     "output_type": "stream",
     "text": [
      "The addition of the numbers is : 9.331\n",
      "The subtraction of numbers is : -2.2209999999999996\n",
      "The multiplication of numbers is : 20.53368\n",
      "The division of numbers is : 0.6154778393351801\n"
     ]
    }
   ],
   "source": [
    "n1= eval(input('Please enter the first number')) #asking user for the first number\n",
    "n2 = eval(input('Please enter the second number except 0 in case of division')) #asking user for second number and alerting for zero in case of division\n",
    "print(f'The addition of the numbers is : {n1+n2}') #printing sum\n",
    "print(f'The subtraction of numbers is : {n1-n2}') #printing subtraction \n",
    "print(f'The multiplication of numbers is : {n1*n2}') #printing multiplication\n",
    "print(f'The division of numbers is : {n1/n2}') #printing division\n",
    "\n"
   ]
  },
  {
   "cell_type": "code",
   "execution_count": null,
   "id": "267b6633-d6fa-4b51-8651-61844b3d63e9",
   "metadata": {},
   "outputs": [],
   "source": []
  },
  {
   "cell_type": "markdown",
   "id": "b65ca135-1550-403f-947f-8937d6acc0ee",
   "metadata": {},
   "source": [
    "**Que 7: wap ask the user enter radius values and pi value find the area\n",
    "of the circle**"
   ]
  },
  {
   "cell_type": "code",
   "execution_count": 55,
   "id": "37e95d99-1eec-406f-a997-38e91085af6e",
   "metadata": {},
   "outputs": [
    {
     "name": "stdin",
     "output_type": "stream",
     "text": [
      "Please help with the radius of the circle 5.77\n",
      "Please help with the pi value 3.14\n"
     ]
    },
    {
     "name": "stdout",
     "output_type": "stream",
     "text": [
      "The area of the circle which has radius of 5.77 will be 104.54\n"
     ]
    }
   ],
   "source": [
    "rad= eval(input('Please help with the radius of the circle')) #asking user for the radius of the circle\n",
    "pi=eval(input('Please help with the pi value')) #asking user for the value of pi\n",
    "area = round((pi*rad*rad),2) #calculating the area of the circle and limiting it to 2 decimal point\n",
    "print(f'The area of the circle which has radius of {rad} will be {area}') #printing the area of the circle"
   ]
  },
  {
   "cell_type": "code",
   "execution_count": null,
   "id": "0284743a-b45e-4f7b-8460-6702c8887a45",
   "metadata": {},
   "outputs": [],
   "source": []
  },
  {
   "cell_type": "markdown",
   "id": "29435f9b-4652-44fc-909b-b1e99a6d6e72",
   "metadata": {},
   "source": [
    "**Que 8: wap ask the user bill amount in dollars, ask the user enter how\n",
    "much indian rupees for one dollar print the bill amount in rupees**"
   ]
  },
  {
   "cell_type": "code",
   "execution_count": 64,
   "id": "4909ec3e-f61d-4c7a-8740-20623fe71310",
   "metadata": {},
   "outputs": [
    {
     "name": "stdin",
     "output_type": "stream",
     "text": [
      "What is the bill amount in USD? 54.89\n",
      "What is the coversion rate for USD to INR? 85.984\n"
     ]
    },
    {
     "name": "stdout",
     "output_type": "stream",
     "text": [
      "Dear Customer, your bill in USD is 54.89 and in Indian Rupees it is 4719.66 as today we have conversion rate of 85.984 rupees for 1 USD\n"
     ]
    }
   ],
   "source": [
    "bill_usd = eval(input('What is the bill amount in USD?'))  #asking the bill in USD\n",
    "conv_rate = eval(input('What is the coversion rate for USD to INR?'))  #asking for conversion rate\n",
    "bill_INR = round(bill_usd*conv_rate,2) #converting USD to INR\n",
    "print(f'Dear Customer, your bill in USD is {bill_usd} and in Indian Rupees it is {bill_INR} as today we have conversion rate of {conv_rate} rupees for 1 USD') #printing the final output"
   ]
  },
  {
   "cell_type": "code",
   "execution_count": null,
   "id": "9d5161a1-adc7-4088-acd9-a1f4b5a91cc0",
   "metadata": {},
   "outputs": [],
   "source": []
  },
  {
   "cell_type": "markdown",
   "id": "39d3e87f-7cec-45a3-9302-61b795c86b8f",
   "metadata": {},
   "source": [
    "**Que 9: wap ask the user enter base height calculate area of the triangle**"
   ]
  },
  {
   "cell_type": "code",
   "execution_count": 71,
   "id": "59539728-271f-4de7-850d-dd127967120b",
   "metadata": {},
   "outputs": [
    {
     "name": "stdin",
     "output_type": "stream",
     "text": [
      "Please enter the base of the triangle in meters 7.99\n",
      "Please enter the hight of the trianlgle in meters 6.57\n"
     ]
    },
    {
     "name": "stdout",
     "output_type": "stream",
     "text": [
      "The area of the triangle which has hight of 6.57 meters and base of 7.99 meters will be 26.25 sq. meter\n"
     ]
    }
   ],
   "source": [
    "base= eval(input('Please enter the base of the triangle in meters')) #askng for the base of the triangle\n",
    "hight=eval(input('Please enter the hight of the trianlgle in meters')) #askng for the hight of the triangle\n",
    "area = round((0.5*base*hight),2) #calculating the are of the triangle using the area formula 0.5xbasexhight\n",
    "print(f'The area of the triangle which has hight of {hight} meters and base of {base} meters will be {area} sq. meter') #printing the final result "
   ]
  },
  {
   "cell_type": "code",
   "execution_count": null,
   "id": "17e3ce19-19b5-45d4-aa21-e445650c4b40",
   "metadata": {},
   "outputs": [],
   "source": []
  },
  {
   "cell_type": "markdown",
   "id": "a53e5799-10e8-44eb-a7a2-ce0ba0137c8b",
   "metadata": {},
   "source": [
    "**Que 10: wap ask the user enter length and breadth calculate area of the\n",
    "rectangle**"
   ]
  },
  {
   "cell_type": "code",
   "execution_count": 78,
   "id": "a2b0c7e0-8b0c-42f9-acb8-3bf7f39379e6",
   "metadata": {},
   "outputs": [
    {
     "name": "stdin",
     "output_type": "stream",
     "text": [
      "Please enter the length of the rectangle in meters 5.43\n",
      "Please enter the bredth of the rectangle in meters 7.63\n"
     ]
    },
    {
     "name": "stdout",
     "output_type": "stream",
     "text": [
      "The area of the rectangle which has length of 5.43 meters and bredth of 7.63 meters will be 41.43 sq. meter\n"
     ]
    }
   ],
   "source": [
    "len= eval(input('Please enter the length of the rectangle in meters')) #askng for the base of the rectangle\n",
    "brd=eval(input('Please enter the bredth of the rectangle in meters')) #askng for the hight of the rectangle\n",
    "area = round((len*brd),2) #calculating the are of the rectangle using the area formula length x bredth\n",
    "print(f'The area of the rectangle which has length of {len} meters and bredth of {brd} meters will be {area} sq. meter') #printing the final result "
   ]
  },
  {
   "cell_type": "code",
   "execution_count": null,
   "id": "5719386e-d794-461e-b2d9-ebff53d7daad",
   "metadata": {},
   "outputs": [],
   "source": []
  },
  {
   "cell_type": "markdown",
   "id": "88679aa4-ccdc-415f-8520-3c0395189734",
   "metadata": {},
   "source": [
    "**Que 11: Let’s create a story between Father and daughter , You need\n",
    "to create a story by using print and input keywords\n",
    "You need to develop a python code same like below steps\n",
    "The goal of this code is to understand python is step by step\n",
    "process**\n",
    "- Step-1: input(“ Father: Hey Baby!”)\n",
    "- Step-2: input(“Daughter: Hello Dady”)\n",
    "- Step-3: input(“Father: I heard your exams are over, what about result”)\n",
    "- Step-4: input(“Daughter: Yes dad! Results are out.”)\n",
    "- Step-5: input(“Father: what is the percentage?”)\n",
    "- Step-6: input(“Daughter: I will give my subject wise marks , you tell me the\n",
    "percentage”)\n",
    "- Step-7: input(“Father : Okay!)\n",
    "- Step-8: sub1=eval(input(“First Language:”))\n",
    "- Step-9: sub2=eval(input(“Second language:”))\n",
    "- Step-10: sub3=eval(input(“Third language:”))\n",
    "- Step-11: sub4=eval(input(“Science:”))\n",
    "- Step-12: sub5=eval(input(“Maths:”))\n",
    "- Step-13: Daughter: Dad Now tell me how much percentage I got\n",
    "- Step-14: Father: Tell me the max marks of each subject\n",
    "- Step-15: max_marks=eval(input(“Daughter:”)) give=100\n",
    "- Step-16: calculate the percentage of marks and print it"
   ]
  },
  {
   "cell_type": "code",
   "execution_count": 81,
   "id": "97a3fba9-9065-49fb-9ba9-11d65a2b63e9",
   "metadata": {},
   "outputs": [
    {
     "name": "stdout",
     "output_type": "stream",
     "text": [
      "Father: Hey Baby!\n",
      "Daughter: Hello Dady!\n",
      "Father: I heard your exams are over, what about the results!\n",
      "Daughter: Yes Dad! Results are out.\n",
      "Father: Whatis the percentage?\n",
      "Daughter: I will give my subject wise marks, you tell me the percentage.\n",
      "Father: okay!\n"
     ]
    },
    {
     "name": "stdin",
     "output_type": "stream",
     "text": [
      "First Language: 57\n",
      "Second Language: 79\n",
      "Third Language: 91\n",
      "Science: 98\n",
      "Maths: 100\n"
     ]
    },
    {
     "name": "stdout",
     "output_type": "stream",
     "text": [
      "Daughter: Dad! Now tell me how much percentage I got?\n",
      "Father: Tell me the maximum marks of each subject\n"
     ]
    },
    {
     "name": "stdin",
     "output_type": "stream",
     "text": [
      "Daughter: Maximum marks for each subject is same which is: 100\n"
     ]
    },
    {
     "name": "stdout",
     "output_type": "stream",
     "text": [
      "Hey Baby! You scored total 425 marks out of 500 which means you scored 85.0% marks in your exam\n"
     ]
    }
   ],
   "source": [
    "print('Father: Hey Baby!')\n",
    "print('Daughter: Hello Dady!')\n",
    "print('Father: I heard your exams are over, what about the results!')\n",
    "print('Daughter: Yes Dad! Results are out.')\n",
    "print('Father: Whatis the percentage?')\n",
    "print('Daughter: I will give my subject wise marks, you tell me the percentage.')\n",
    "print(\"Father: okay!\") #Started the conversation\n",
    "sub1=eval(input('First Language:'))\n",
    "sub2=eval(input('Second Language:'))\n",
    "sub3=eval(input('Third Language:'))\n",
    "sub4=eval(input('Science:'))\n",
    "sub5=eval(input('Maths:')) #asked the number from each subject\n",
    "total_scored = round(sub1+sub2+sub3+sub4+sub5,2) #total the marks obtained\n",
    "print('Daughter: Dad! Now tell me how much percentage I got?')\n",
    "print('Father: Tell me the maximum marks of each subject') #further conversation\n",
    "max_mark = eval(input('Daughter: Maximum marks for each subject is same which is:')) #asked the individual subject max marks i.e. 100\n",
    "percentage = (total_scored*100)/(5*max_mark) #calculated the percentage of the marks\n",
    "print(f'Hey Baby! You scored total {total_scored} marks out of {5*max_mark} which means you scored {percentage}% marks in your exam') #final result"
   ]
  }
 ],
 "metadata": {
  "kernelspec": {
   "display_name": "Python 3 (ipykernel)",
   "language": "python",
   "name": "python3"
  },
  "language_info": {
   "codemirror_mode": {
    "name": "ipython",
    "version": 3
   },
   "file_extension": ".py",
   "mimetype": "text/x-python",
   "name": "python",
   "nbconvert_exporter": "python",
   "pygments_lexer": "ipython3",
   "version": "3.12.4"
  }
 },
 "nbformat": 4,
 "nbformat_minor": 5
}
