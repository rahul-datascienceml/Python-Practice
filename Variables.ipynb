{
 "cells": [
  {
   "cell_type": "markdown",
   "id": "2d06d158-c4c0-4e21-a983-7afedc5e0737",
   "metadata": {},
   "source": [
    "**Variables**"
   ]
  },
  {
   "cell_type": "markdown",
   "id": "59f46a7e-efb3-43d6-866a-33b6f92f75be",
   "metadata": {},
   "source": [
    "- Variables are used to store the value.\n",
    "- Variables can change their value.\n",
    "- In Jupyter Notebook, the variables will be in BLACK color. \n",
    "- Variables should not have numbers as prefix. Variables can be used as upper and lower case as well.\n",
    "- Variables can not use 'space'\n",
    "- Variables can have any text and a number as suffix.\n",
    "- Vaiables should not have special characters in it except the underscore '_'\n",
    "- Variables can have underscore as prefix as well.\n",
    "- Variables are case sensitive, whatever we have written while declaring it, we have to use the same while asking for output\n",
    "- Python consider the latest value of the viable whenever we ask for the output.\n",
    "- Variables cannot use the Keywords and reserved words, ex. if, else, true, false etc."
   ]
  },
  {
   "cell_type": "code",
   "execution_count": 3,
   "id": "c127a11e-4e19-4de2-ada2-ec0103f84d6c",
   "metadata": {},
   "outputs": [
    {
     "data": {
      "text/plain": [
       "100"
      ]
     },
     "execution_count": 3,
     "metadata": {},
     "output_type": "execute_result"
    }
   ],
   "source": [
    "number = 100\n",
    "number"
   ]
  },
  {
   "cell_type": "code",
   "execution_count": 5,
   "id": "202b8d15-be33-4004-b85a-53164838ac23",
   "metadata": {},
   "outputs": [
    {
     "data": {
      "text/plain": [
       "900"
      ]
     },
     "execution_count": 5,
     "metadata": {},
     "output_type": "execute_result"
    }
   ],
   "source": [
    "n1=900\n",
    "n1"
   ]
  },
  {
   "cell_type": "code",
   "execution_count": 7,
   "id": "671f89ee-1caf-460c-a0db-ab25b6d7ee85",
   "metadata": {},
   "outputs": [
    {
     "data": {
      "text/plain": [
       "1000"
      ]
     },
     "execution_count": 7,
     "metadata": {},
     "output_type": "execute_result"
    }
   ],
   "source": [
    "n1+100"
   ]
  },
  {
   "cell_type": "code",
   "execution_count": 9,
   "id": "2a228091-1d84-43bf-bf3a-5b5bafdd34b4",
   "metadata": {},
   "outputs": [],
   "source": [
    "mark = 100"
   ]
  },
  {
   "cell_type": "code",
   "execution_count": 11,
   "id": "57ce9307-490b-44f2-b353-0f35f82763d2",
   "metadata": {},
   "outputs": [
    {
     "data": {
      "text/plain": [
       "100"
      ]
     },
     "execution_count": 11,
     "metadata": {},
     "output_type": "execute_result"
    }
   ],
   "source": [
    "mark"
   ]
  },
  {
   "cell_type": "code",
   "execution_count": 13,
   "id": "18a77120-5a26-4de6-bc1e-b5bab6a6cc58",
   "metadata": {},
   "outputs": [
    {
     "data": {
      "text/plain": [
       "100"
      ]
     },
     "execution_count": 13,
     "metadata": {},
     "output_type": "execute_result"
    }
   ],
   "source": [
    "_num=100\n",
    "_num"
   ]
  },
  {
   "cell_type": "code",
   "execution_count": null,
   "id": "aec6a98f-6910-4b66-ba1f-6ab5771db850",
   "metadata": {},
   "outputs": [],
   "source": []
  }
 ],
 "metadata": {
  "kernelspec": {
   "display_name": "Python 3 (ipykernel)",
   "language": "python",
   "name": "python3"
  },
  "language_info": {
   "codemirror_mode": {
    "name": "ipython",
    "version": 3
   },
   "file_extension": ".py",
   "mimetype": "text/x-python",
   "name": "python",
   "nbconvert_exporter": "python",
   "pygments_lexer": "ipython3",
   "version": "3.12.4"
  }
 },
 "nbformat": 4,
 "nbformat_minor": 5
}
