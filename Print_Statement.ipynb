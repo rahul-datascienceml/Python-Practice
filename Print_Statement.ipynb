{
 "cells": [
  {
   "cell_type": "markdown",
   "id": "2efcf097-0df2-4fc1-b827-ecd050efa700",
   "metadata": {},
   "source": [
    "## Print Statements:"
   ]
  },
  {
   "cell_type": "markdown",
   "id": "cf4e7184-65d3-4538-83fb-d9b1413fe8b7",
   "metadata": {},
   "source": [
    "- print is an inbuilt function which comes in Green color. Which make the answer visible.\n",
    "- In Jupyter NoteBook if we want to see latest value then it can be acheived simply shift+enter, however if we want to see all the values then we need to use print statement.\n",
    "- in VS Code and PyCharm, there is no Markdown option, if we want to see any answer there we have to use print statement only."
   ]
  },
  {
   "cell_type": "markdown",
   "id": "4dad751d-ef8b-4be0-9027-f29a6ea639d6",
   "metadata": {},
   "source": [
    "**Format Method:**\n",
    "\n",
    "- ex. if we want to present \"The addition of 10 and 20 is 30.\" In order to acheive this we need to do the below: \n",
    "    - First write all the statement like: The addition of 10 and 20 is 30.\n",
    "    - Then replace the variable value with {}, in this case. The addition of {} and {} is {}\n",
    "    - Then add '.format(var1, var2,var3) at the end of the print statement. In this case: print('The addition of {} and {} is {}.'.format(a,b,c))"
   ]
  },
  {
   "cell_type": "markdown",
   "id": "0c61b4d7-122c-4cc4-bc44-b4c785cbc218",
   "metadata": {},
   "source": [
    "**F String Method:**\n",
    "\n",
    "- ex. if we want to present \"The addition of 10 and 20 is 30.\" In order to acheive this we need to do the below: \n",
    "    - First write all the statement like: The addition of 10 and 20 is 30.\n",
    "    - Then replace the variable value with {}, in this case. The addition of {} and {} is {}\n",
    "    - Then add 'f' at the start of the value inside print and in curly braces put the variable names. In this case: print(f'The addition of {a} and {b} is {c}.')"
   ]
  },
  {
   "cell_type": "markdown",
   "id": "17fd0f6a-5bb5-403a-b8ba-db3ed350bf7d",
   "metadata": {},
   "source": [
    "**end='' Method:**\n",
    "\n",
    "- This method is used when we need output in our demand like 10 and 20 , 10&20,  10 ---> 20 etc\n",
    "- In this we do like below : print(var1,end=' and ')\n",
    "                            print(var2)\n",
    "                            This will give us output as 10 and 20."
   ]
  },
  {
   "cell_type": "markdown",
   "id": "33a0938f-e840-4693-9fbd-19badba151ff",
   "metadata": {},
   "source": [
    "**Separator Method:**\n",
    "\n",
    "- This method is used when we need to separate the values with some separator like & (10 & 20 & 30) or arrows (10 --> 20 --> 30)\n",
    "- In this we do like below : print(var1,var2,var3,sep=' and ')    This will give us output as 10 and 20 and 30."
   ]
  },
  {
   "cell_type": "markdown",
   "id": "6f7d25b6-1285-4cf1-b461-a80a103e4403",
   "metadata": {},
   "source": [
    "**Examples**\n",
    "\n",
    "**Normal Method**"
   ]
  },
  {
   "cell_type": "code",
   "execution_count": 2,
   "id": "710e1620-6f08-4c4b-9c72-a92bb5b71af2",
   "metadata": {},
   "outputs": [],
   "source": [
    "num1=100\n",
    "num2=200"
   ]
  },
  {
   "cell_type": "code",
   "execution_count": 4,
   "id": "212cb4b5-d24d-45de-858f-3ee3e54f26fa",
   "metadata": {},
   "outputs": [
    {
     "data": {
      "text/plain": [
       "200"
      ]
     },
     "execution_count": 4,
     "metadata": {},
     "output_type": "execute_result"
    }
   ],
   "source": [
    "num1\n",
    "num2"
   ]
  },
  {
   "cell_type": "code",
   "execution_count": 6,
   "id": "8d623502-3d11-4379-ac7f-fbdbd799b1e6",
   "metadata": {},
   "outputs": [
    {
     "name": "stdout",
     "output_type": "stream",
     "text": [
      "100\n",
      "200\n"
     ]
    }
   ],
   "source": [
    "print(num1)\n",
    "print(num2)"
   ]
  },
  {
   "cell_type": "code",
   "execution_count": 8,
   "id": "3078e59f-5de5-4923-a409-49f7083c7051",
   "metadata": {},
   "outputs": [
    {
     "name": "stdout",
     "output_type": "stream",
     "text": [
      "100 200\n"
     ]
    }
   ],
   "source": [
    "print(num1,num2)"
   ]
  },
  {
   "cell_type": "code",
   "execution_count": 10,
   "id": "d4a8bb70-57c4-468a-8edf-26f5d6b6b227",
   "metadata": {},
   "outputs": [
    {
     "name": "stdout",
     "output_type": "stream",
     "text": [
      "10 20 Rahul 78\n"
     ]
    }
   ],
   "source": [
    "print(10,20,'Rahul',78)"
   ]
  },
  {
   "cell_type": "code",
   "execution_count": 12,
   "id": "c5ecb856-9945-42c2-863d-e53525c3871d",
   "metadata": {},
   "outputs": [
    {
     "name": "stdout",
     "output_type": "stream",
     "text": [
      "Hello Bye\n"
     ]
    }
   ],
   "source": [
    "print('Hello','Bye')"
   ]
  },
  {
   "cell_type": "code",
   "execution_count": 14,
   "id": "95827b44-a17a-46cb-933e-29fd479ad614",
   "metadata": {},
   "outputs": [
    {
     "name": "stdout",
     "output_type": "stream",
     "text": [
      "Hello Bye 100 200 20 30\n"
     ]
    }
   ],
   "source": [
    "print('Hello','Bye',num1,num2,20,30)"
   ]
  },
  {
   "cell_type": "code",
   "execution_count": 16,
   "id": "09584b36-2519-467b-997e-6084acced14f",
   "metadata": {},
   "outputs": [
    {
     "name": "stdout",
     "output_type": "stream",
     "text": [
      "Addition of a and b is 30\n"
     ]
    }
   ],
   "source": [
    "a=10\n",
    "b=20\n",
    "c=a+b\n",
    "print('Addition of a and b is',c)"
   ]
  },
  {
   "cell_type": "code",
   "execution_count": 18,
   "id": "a40d7c59-419f-4a59-80c3-0d1b8a7c9845",
   "metadata": {},
   "outputs": [
    {
     "name": "stdout",
     "output_type": "stream",
     "text": [
      "Addition of \"a and b\" is 30\n"
     ]
    }
   ],
   "source": [
    "a=10\n",
    "b=20\n",
    "c=a+b\n",
    "print('Addition of \"a and b\" is',c)"
   ]
  },
  {
   "cell_type": "code",
   "execution_count": 20,
   "id": "414f754a-eb46-42bb-bcc5-1329d7c3feb5",
   "metadata": {},
   "outputs": [
    {
     "name": "stdout",
     "output_type": "stream",
     "text": [
      "Addition of 'a and b' is 30\n"
     ]
    }
   ],
   "source": [
    "a=10\n",
    "b=20\n",
    "c=a+b\n",
    "print(\"Addition of 'a and b' is\",c)"
   ]
  },
  {
   "cell_type": "code",
   "execution_count": 22,
   "id": "fe509410-1081-47cf-b8bf-15f41e50d84b",
   "metadata": {},
   "outputs": [
    {
     "name": "stdout",
     "output_type": "stream",
     "text": [
      "Addition of 10 and 20 is 30\n"
     ]
    }
   ],
   "source": [
    "a=10\n",
    "b=20\n",
    "c=a+b\n",
    "print('Addition of',a,'and', b, 'is',c)"
   ]
  },
  {
   "cell_type": "code",
   "execution_count": 24,
   "id": "26c9cbd1-f66d-4702-abaa-c49ecbf81b39",
   "metadata": {},
   "outputs": [
    {
     "name": "stdout",
     "output_type": "stream",
     "text": [
      "Addition of 102 and 205 is 307\n"
     ]
    }
   ],
   "source": [
    "a=102\n",
    "b=205\n",
    "c=a+b\n",
    "print('Addition of',a,'and', b, 'is',c)"
   ]
  },
  {
   "cell_type": "code",
   "execution_count": 28,
   "id": "169e5101-d7f5-43f1-9360-61f26817cdeb",
   "metadata": {},
   "outputs": [
    {
     "name": "stdout",
     "output_type": "stream",
     "text": [
      "My name is Rahul ,I am 35 years old and I come from Jaipur\n"
     ]
    }
   ],
   "source": [
    "name = 'Rahul'\n",
    "city = 'Jaipur'\n",
    "age = 35\n",
    "print('My name is',name,',I am',age,'years old and I come from',city)"
   ]
  },
  {
   "cell_type": "code",
   "execution_count": null,
   "id": "1f65aa15-5465-4eef-9c5a-aaf91fc8ea8f",
   "metadata": {},
   "outputs": [],
   "source": []
  },
  {
   "cell_type": "code",
   "execution_count": null,
   "id": "0898477d-6820-4244-869d-d62f2c232d11",
   "metadata": {},
   "outputs": [],
   "source": []
  },
  {
   "cell_type": "markdown",
   "id": "0dfa322c-b7c2-43b7-90b6-49ee8002a00b",
   "metadata": {},
   "source": [
    "**Format Method**"
   ]
  },
  {
   "cell_type": "code",
   "execution_count": 41,
   "id": "9130f9d1-d01f-41f4-afc1-a0619eede48d",
   "metadata": {},
   "outputs": [
    {
     "name": "stdout",
     "output_type": "stream",
     "text": [
      "Addition of 10 and 20 is 30.\n"
     ]
    }
   ],
   "source": [
    "a=10\n",
    "b=20\n",
    "c=a+b\n",
    "print('Addition of {} and {} is {}.'.format(a,b,c))"
   ]
  },
  {
   "cell_type": "code",
   "execution_count": 46,
   "id": "59574a46-533d-42ce-b464-86be17def979",
   "metadata": {},
   "outputs": [
    {
     "name": "stdout",
     "output_type": "stream",
     "text": [
      "My name is Rahul, I am 35 years old and I come from Jaipur.\n"
     ]
    }
   ],
   "source": [
    "name = 'Rahul'\n",
    "city = 'Jaipur'\n",
    "age = 35\n",
    "print('My name is {}, I am {} years old and I come from {}.'.format(name,age,city))"
   ]
  },
  {
   "cell_type": "code",
   "execution_count": 52,
   "id": "2d2ba6f5-43f0-47fc-94e3-d18c5982435c",
   "metadata": {},
   "outputs": [
    {
     "name": "stdout",
     "output_type": "stream",
     "text": [
      "The addition of 20 and 4 is 24.\n",
      "The substraction of 20 and 4 is 16.\n",
      "The multiplication of 20 and 4 is 80.\n",
      "The division of 20 and 4 is 5.\n"
     ]
    }
   ],
   "source": [
    "a=20\n",
    "b=4\n",
    "sum=a+b\n",
    "subs=a-b\n",
    "mul=a*b\n",
    "div=a/b\n",
    "print('The addition of {} and {} is {}.'.format(a,b,sum))\n",
    "print('The substraction of {} and {} is {}.'.format(a,b,subs))\n",
    "print('The multiplication of {} and {} is {}.'.format(a,b,mul))\n",
    "print('The division of {} and {} is {}.'.format(a,b,int(div)))"
   ]
  },
  {
   "cell_type": "code",
   "execution_count": 54,
   "id": "382153d0-7015-4b58-8525-8186a5e136de",
   "metadata": {},
   "outputs": [
    {
     "name": "stdout",
     "output_type": "stream",
     "text": [
      "The addition of 20 and 4 is 24.\n",
      "The substraction of 20 and 4 is 16.\n",
      "The multiplication of 20 and 4 is 80.\n",
      "The division of 20 and 4 is 5.0\n"
     ]
    }
   ],
   "source": [
    "a=20\n",
    "b=4\n",
    "sum=a+b\n",
    "subs=a-b\n",
    "mul=a*b\n",
    "div=a/b\n",
    "print('The addition of {} and {} is {}.'.format(a,b,sum))\n",
    "print('The substraction of {} and {} is {}.'.format(a,b,subs))\n",
    "print('The multiplication of {} and {} is {}.'.format(a,b,mul))\n",
    "print('The division of {} and {} is {}'.format(a,b,div))"
   ]
  },
  {
   "cell_type": "code",
   "execution_count": 58,
   "id": "d41092ae-8606-4d34-93d5-4c222adc1d63",
   "metadata": {},
   "outputs": [
    {
     "name": "stdout",
     "output_type": "stream",
     "text": [
      "The addition is 24, substraction is 16, multiplication is 80 and division is 5.0\n"
     ]
    }
   ],
   "source": [
    "print('The addition is {}, substraction is {}, multiplication is {} and division is {}'.format(sum,subs,mul,div) )"
   ]
  },
  {
   "cell_type": "code",
   "execution_count": null,
   "id": "833d2906-1d57-4a72-a559-b1eb81fd1734",
   "metadata": {},
   "outputs": [],
   "source": []
  },
  {
   "cell_type": "code",
   "execution_count": null,
   "id": "c6aa984f-9279-4b9a-8ea6-2991f77eb7bc",
   "metadata": {},
   "outputs": [],
   "source": []
  },
  {
   "cell_type": "markdown",
   "id": "d81c98b3-86bf-4a56-bb4f-dfed5c980870",
   "metadata": {},
   "source": [
    "**F String Method: print(f'The addition is {a} and {b} is {c}')**"
   ]
  },
  {
   "cell_type": "code",
   "execution_count": 62,
   "id": "a28977ca-623f-46af-8117-4e2b907909b3",
   "metadata": {},
   "outputs": [
    {
     "name": "stdout",
     "output_type": "stream",
     "text": [
      "The addition is 24, substraction is 16, multiplication is 80 and division is 5.0\n"
     ]
    }
   ],
   "source": [
    "print(f'The addition is {sum}, substraction is {subs}, multiplication is {mul} and division is {div}')"
   ]
  },
  {
   "cell_type": "code",
   "execution_count": 64,
   "id": "9814f145-2b16-477a-9701-5ed77e25d6d0",
   "metadata": {},
   "outputs": [
    {
     "name": "stdout",
     "output_type": "stream",
     "text": [
      "My name is Rahul, I am 35 years old and I come from Jaipur.\n"
     ]
    }
   ],
   "source": [
    "name = 'Rahul'\n",
    "city = 'Jaipur'\n",
    "age = 35\n",
    "print(f'My name is {name}, I am {age} years old and I come from {city}.')"
   ]
  },
  {
   "cell_type": "code",
   "execution_count": null,
   "id": "860c0f50-a807-4b0b-a2ea-bebcaee36471",
   "metadata": {},
   "outputs": [],
   "source": []
  },
  {
   "cell_type": "code",
   "execution_count": null,
   "id": "b3a4de99-4bd5-42ec-91cc-a1316e6626f6",
   "metadata": {},
   "outputs": [],
   "source": []
  },
  {
   "cell_type": "markdown",
   "id": "7c59db78-d6e9-4307-a38f-47b4c49f8210",
   "metadata": {},
   "source": [
    "**end=('') Method:**"
   ]
  },
  {
   "cell_type": "code",
   "execution_count": 83,
   "id": "230ab79d-9dc1-456b-b2c7-a99e5a3ce0ca",
   "metadata": {},
   "outputs": [
    {
     "name": "stdout",
     "output_type": "stream",
     "text": [
      "Rahul and 35\n"
     ]
    }
   ],
   "source": [
    "print(name,end=' and ')\n",
    "print(age)"
   ]
  },
  {
   "cell_type": "code",
   "execution_count": 75,
   "id": "e406f6ec-b046-47b4-96fd-8ce5d228de23",
   "metadata": {},
   "outputs": [
    {
     "name": "stdout",
     "output_type": "stream",
     "text": [
      "Rahul ----> 35\n"
     ]
    }
   ],
   "source": [
    "print(name,end=(' ----> '))\n",
    "print(age)"
   ]
  },
  {
   "cell_type": "code",
   "execution_count": 81,
   "id": "f0d4369c-ab6f-498f-988a-0bda84bec0a5",
   "metadata": {},
   "outputs": [
    {
     "name": "stdout",
     "output_type": "stream",
     "text": [
      "Rahul ----> 35 ----> Jaipur\n"
     ]
    }
   ],
   "source": [
    "print(name,end=' ----> ')\n",
    "print(age, end=' ----> ')\n",
    "print(city)"
   ]
  },
  {
   "cell_type": "code",
   "execution_count": null,
   "id": "ba0a8d2f-4cda-4f68-aeaf-3f102200fd0a",
   "metadata": {},
   "outputs": [],
   "source": []
  },
  {
   "cell_type": "code",
   "execution_count": null,
   "id": "87f139dc-cc7f-466e-a9ec-e71fe0c27502",
   "metadata": {},
   "outputs": [],
   "source": []
  },
  {
   "cell_type": "markdown",
   "id": "ab5afcd0-5733-4ef5-b25b-3ee48880182c",
   "metadata": {},
   "source": [
    "**Separator Method: print(var1, var2, var3, sep='-->')**"
   ]
  },
  {
   "cell_type": "code",
   "execution_count": 87,
   "id": "ab3a53b7-3eed-42f1-9574-d5fe02e35219",
   "metadata": {},
   "outputs": [
    {
     "name": "stdout",
     "output_type": "stream",
     "text": [
      "Rahul --> 35 --> Jaipur\n"
     ]
    }
   ],
   "source": [
    "print(name,age,city,sep=' --> ')"
   ]
  },
  {
   "cell_type": "code",
   "execution_count": null,
   "id": "f1701034-f261-4f70-9afd-7101cbd891e3",
   "metadata": {},
   "outputs": [],
   "source": []
  }
 ],
 "metadata": {
  "kernelspec": {
   "display_name": "Python 3 (ipykernel)",
   "language": "python",
   "name": "python3"
  },
  "language_info": {
   "codemirror_mode": {
    "name": "ipython",
    "version": 3
   },
   "file_extension": ".py",
   "mimetype": "text/x-python",
   "name": "python",
   "nbconvert_exporter": "python",
   "pygments_lexer": "ipython3",
   "version": "3.12.4"
  }
 },
 "nbformat": 4,
 "nbformat_minor": 5
}
