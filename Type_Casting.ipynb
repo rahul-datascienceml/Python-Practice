{
 "cells": [
  {
   "cell_type": "markdown",
   "id": "771e6824-79a2-439a-b334-d3f5d27db4f5",
   "metadata": {},
   "source": [
    "## Type Casting"
   ]
  },
  {
   "cell_type": "markdown",
   "id": "0298fe7f-1e48-4898-999f-bcaecb1b2695",
   "metadata": {},
   "source": [
    "**Changing the one data type to another is called Type Casting.**"
   ]
  },
  {
   "cell_type": "markdown",
   "id": "77323bff-e05f-4149-89db-34017dee7e66",
   "metadata": {},
   "source": [
    "### Integer to Other Datatypes\n",
    "\n",
    "- Integer to Float: float(ineger_variable)  , this will give the output in float data type\n",
    "\n",
    "- Integer to String: str(integer_variable) , this will give output as str which means the number will come in inverted comma ''.\n",
    "\n",
    "- Integer to Boolean: bool(integer_variable), this will give the answer in True and False. The False answer will come only for zero (0) for rest other integers it will be True be it positive or negative integers.\n",
    "\n"
   ]
  },
  {
   "cell_type": "markdown",
   "id": "1d68e654-196d-469a-af83-dba7bcc465f9",
   "metadata": {},
   "source": [
    "### Float to Other Datatypes\n",
    "\n",
    "- Float to Integer: int(float_variable)  , this will give the output in integer data type\n",
    "\n",
    "- Float to String: str(float_variable) , this will give output as str which means the number will come in inverted comma ''.\n",
    "\n",
    "- Float to Boolean: bool(float_variable), this will give the answer in True and False. The False answer will come only for zero (0) for rest other integers it will be True be it positive or negative integers.\n",
    "\n"
   ]
  },
  {
   "cell_type": "markdown",
   "id": "525c28fc-3a78-4f74-b7c5-d75239e90529",
   "metadata": {},
   "source": [
    "### String to Other Datatypes\n",
    "\n",
    "- String to Integer: int(float_variable)  , ValueError: invalid literal for int() with base 10: 'apple' in case of any text, output will come only when a number is given as string\n",
    "\n",
    "- String to Float: str(float_variable) , ValueError: could not convert string to float: 'apple', output will come only when a number is given as string\n",
    "\n",
    "- String to Boolean: bool(float_variable), It will give only True as answer except an empty input is given, in this case False will be output.\n",
    "\n"
   ]
  },
  {
   "cell_type": "markdown",
   "id": "97aac4a8-5841-450b-8ed9-c95eefae6d6d",
   "metadata": {},
   "source": [
    "### Boolean to Other Datatypes\n",
    "\n",
    "- Boolean to Integer: int(Boolean_variable)  , For 'True' it will return 1 and for False it will return 0\n",
    "\n",
    "- Boolean to Float: float(Boolean_variable) , For 'True' it will be 1.0 and for False 0.0\n",
    "\n",
    "- Boolean to String: str(Boolean_variable), For True and False both it will return output as 'True' and 'False' respectively.\n",
    "\n"
   ]
  },
  {
   "cell_type": "markdown",
   "id": "03434865-6842-4065-ac37-5ed7c93253ff",
   "metadata": {},
   "source": [
    "**Extra Notes**\n",
    "\n",
    "  - NameError: We will get this error when the variable is not defined before the execution of the command\n",
    "  - ValueError: when the value is wrongly given for a variable."
   ]
  },
  {
   "cell_type": "markdown",
   "id": "18d6e336-e525-4817-baf5-299f00ce079d",
   "metadata": {},
   "source": [
    "**1. Integer to Float Type Casting**"
   ]
  },
  {
   "cell_type": "code",
   "execution_count": 2,
   "id": "bca79c5e-5de9-4759-8b8e-0a7df39e49b7",
   "metadata": {},
   "outputs": [
    {
     "data": {
      "text/plain": [
       "int"
      ]
     },
     "execution_count": 2,
     "metadata": {},
     "output_type": "execute_result"
    }
   ],
   "source": [
    "num = 100\n",
    "type(num)"
   ]
  },
  {
   "cell_type": "code",
   "execution_count": 4,
   "id": "8b99de6e-7042-4415-9571-45e9f12daa09",
   "metadata": {},
   "outputs": [
    {
     "data": {
      "text/plain": [
       "100.0"
      ]
     },
     "execution_count": 4,
     "metadata": {},
     "output_type": "execute_result"
    }
   ],
   "source": [
    "float(num)"
   ]
  },
  {
   "cell_type": "code",
   "execution_count": 6,
   "id": "74255b36-aea3-4fca-b972-38c3b463270c",
   "metadata": {},
   "outputs": [
    {
     "data": {
      "text/plain": [
       "100.0"
      ]
     },
     "execution_count": 6,
     "metadata": {},
     "output_type": "execute_result"
    }
   ],
   "source": [
    "num_float=float(num)\n",
    "num_float"
   ]
  },
  {
   "cell_type": "code",
   "execution_count": 10,
   "id": "daa8cb5a-1f60-457a-9e98-e3ede564a664",
   "metadata": {},
   "outputs": [
    {
     "data": {
      "text/plain": [
       "float"
      ]
     },
     "execution_count": 10,
     "metadata": {},
     "output_type": "execute_result"
    }
   ],
   "source": [
    "type(num_float)\n"
   ]
  },
  {
   "cell_type": "markdown",
   "id": "fbb12733-e917-44f5-87c3-9ae0b3f1e010",
   "metadata": {},
   "source": [
    "**2. Interger to String Type Casting**"
   ]
  },
  {
   "cell_type": "code",
   "execution_count": 36,
   "id": "f92cd7b7-8feb-473b-8673-f5e8761540eb",
   "metadata": {},
   "outputs": [
    {
     "data": {
      "text/plain": [
       "'1000'"
      ]
     },
     "execution_count": 36,
     "metadata": {},
     "output_type": "execute_result"
    }
   ],
   "source": [
    "num = 1000\n",
    "str1 = str(num)\n",
    "str1"
   ]
  },
  {
   "cell_type": "code",
   "execution_count": 34,
   "id": "d9f49738-23f2-4467-b503-2ea25ee572a9",
   "metadata": {},
   "outputs": [
    {
     "data": {
      "text/plain": [
       "str"
      ]
     },
     "execution_count": 34,
     "metadata": {},
     "output_type": "execute_result"
    }
   ],
   "source": [
    "type(str1)"
   ]
  },
  {
   "cell_type": "markdown",
   "id": "4ded9846-19f7-49cd-a8d9-b8e950f277c1",
   "metadata": {},
   "source": [
    "**2. Interger to Boolean Type Casting**"
   ]
  },
  {
   "cell_type": "code",
   "execution_count": 42,
   "id": "ac4847ac-f246-4101-87b3-81ae81617486",
   "metadata": {},
   "outputs": [
    {
     "data": {
      "text/plain": [
       "True"
      ]
     },
     "execution_count": 42,
     "metadata": {},
     "output_type": "execute_result"
    }
   ],
   "source": [
    "num = 100\n",
    "bool1 = bool(num)\n",
    "bool1"
   ]
  },
  {
   "cell_type": "code",
   "execution_count": 44,
   "id": "80989cd2-3768-4700-a963-253f4931078c",
   "metadata": {},
   "outputs": [
    {
     "data": {
      "text/plain": [
       "bool"
      ]
     },
     "execution_count": 44,
     "metadata": {},
     "output_type": "execute_result"
    }
   ],
   "source": [
    "type(bool1)"
   ]
  },
  {
   "cell_type": "code",
   "execution_count": 46,
   "id": "8e0a54c9-bf3a-4e42-b248-75503ed5279c",
   "metadata": {},
   "outputs": [
    {
     "data": {
      "text/plain": [
       "False"
      ]
     },
     "execution_count": 46,
     "metadata": {},
     "output_type": "execute_result"
    }
   ],
   "source": [
    "num = 0\n",
    "bool1 = bool(num)\n",
    "bool1"
   ]
  },
  {
   "cell_type": "code",
   "execution_count": 48,
   "id": "841fb012-111a-4a27-84ea-0b629a1fbcd9",
   "metadata": {},
   "outputs": [
    {
     "data": {
      "text/plain": [
       "True"
      ]
     },
     "execution_count": 48,
     "metadata": {},
     "output_type": "execute_result"
    }
   ],
   "source": [
    "num = -100\n",
    "bool1 = bool(num)\n",
    "bool1"
   ]
  },
  {
   "cell_type": "code",
   "execution_count": 52,
   "id": "07c6b7a4-1cf7-41f5-9930-21ed993d4f3e",
   "metadata": {},
   "outputs": [
    {
     "data": {
      "text/plain": [
       "('100', 100.0, True)"
      ]
     },
     "execution_count": 52,
     "metadata": {},
     "output_type": "execute_result"
    }
   ],
   "source": [
    "num2 = 100\n",
    "str_num2 = str(num2)\n",
    "float_num2 = float(num2)\n",
    "bool_num2 = bool(num2)\n",
    "str_num2,float_num2,bool_num2"
   ]
  },
  {
   "cell_type": "code",
   "execution_count": 54,
   "id": "60614c99-d656-481c-a2f7-7a453cf345ad",
   "metadata": {},
   "outputs": [
    {
     "data": {
      "text/plain": [
       "(1000.0, '1000', True)"
      ]
     },
     "execution_count": 54,
     "metadata": {},
     "output_type": "execute_result"
    }
   ],
   "source": [
    "float(1000),str(1000),bool(1000)"
   ]
  },
  {
   "cell_type": "code",
   "execution_count": 56,
   "id": "c8628583-8675-4616-9446-3ac6ddafcaab",
   "metadata": {},
   "outputs": [
    {
     "data": {
      "text/plain": [
       "(1000.0, '1000', False)"
      ]
     },
     "execution_count": 56,
     "metadata": {},
     "output_type": "execute_result"
    }
   ],
   "source": [
    "float(1000),str(1000),bool(000)"
   ]
  },
  {
   "cell_type": "markdown",
   "id": "8bdade1d-a898-4718-a72c-cb1037828dbe",
   "metadata": {},
   "source": [
    "**Float to Other Datatypes**"
   ]
  },
  {
   "cell_type": "code",
   "execution_count": 58,
   "id": "e4b9f339-7483-4835-85fe-7bfd4265c3a5",
   "metadata": {},
   "outputs": [
    {
     "data": {
      "text/plain": [
       "('100.01', 100, True)"
      ]
     },
     "execution_count": 58,
     "metadata": {},
     "output_type": "execute_result"
    }
   ],
   "source": [
    "num2 = 100.01\n",
    "str_num2 = str(num2)\n",
    "int_num2 = int(num2)\n",
    "bool_num2 = bool(num2)\n",
    "str_num2,int_num2,bool_num2"
   ]
  },
  {
   "cell_type": "code",
   "execution_count": 63,
   "id": "dbc83862-a9fd-4f46-ac7b-f81d46c483a9",
   "metadata": {},
   "outputs": [
    {
     "data": {
      "text/plain": [
       "('0.0', 0, False)"
      ]
     },
     "execution_count": 63,
     "metadata": {},
     "output_type": "execute_result"
    }
   ],
   "source": [
    "num2 = 0.0\n",
    "str_num2 = str(num2)\n",
    "int_num2 = int(num2)\n",
    "bool_num2 = bool(num2)\n",
    "str_num2,int_num2,bool_num2"
   ]
  },
  {
   "cell_type": "markdown",
   "id": "0f436d5b-703d-4036-aedc-9aa886b3c102",
   "metadata": {},
   "source": [
    "**String to Other Datatypes**"
   ]
  },
  {
   "cell_type": "code",
   "execution_count": 91,
   "id": "a1926b2e-c0b9-4596-9cf2-a107b860b617",
   "metadata": {},
   "outputs": [
    {
     "data": {
      "text/plain": [
       "(0, 0.0, True)"
      ]
     },
     "execution_count": 91,
     "metadata": {},
     "output_type": "execute_result"
    }
   ],
   "source": [
    "str1 = '0'\n",
    "int(str1),float(str1),bool(str1)"
   ]
  },
  {
   "cell_type": "code",
   "execution_count": 79,
   "id": "8c1c4cd6-4c95-4b5a-aed3-1d8c5a461cee",
   "metadata": {},
   "outputs": [
    {
     "data": {
      "text/plain": [
       "0.0"
      ]
     },
     "execution_count": 79,
     "metadata": {},
     "output_type": "execute_result"
    }
   ],
   "source": [
    "str1 = 'apple'\n",
    "int(str1),float(str1),bool(str1)"
   ]
  },
  {
   "cell_type": "code",
   "execution_count": 87,
   "id": "9c6b4679-0da1-43cd-8df3-f970083db826",
   "metadata": {},
   "outputs": [
    {
     "data": {
      "text/plain": [
       "True"
      ]
     },
     "execution_count": 87,
     "metadata": {},
     "output_type": "execute_result"
    }
   ],
   "source": [
    "str1 = 'apple123'\n",
    "int(str1),float(str1),bool(str1)"
   ]
  },
  {
   "cell_type": "code",
   "execution_count": 95,
   "id": "9d2ffdba-9511-4f78-a824-87c9bd107d29",
   "metadata": {},
   "outputs": [
    {
     "data": {
      "text/plain": [
       "False"
      ]
     },
     "execution_count": 95,
     "metadata": {},
     "output_type": "execute_result"
    }
   ],
   "source": [
    "str1 = ''\n",
    "bool(str1)"
   ]
  },
  {
   "cell_type": "code",
   "execution_count": 97,
   "id": "80f95b1b-54e6-4514-bd89-283eb228cbdd",
   "metadata": {},
   "outputs": [
    {
     "data": {
      "text/plain": [
       "True"
      ]
     },
     "execution_count": 97,
     "metadata": {},
     "output_type": "execute_result"
    }
   ],
   "source": [
    "bool('10')"
   ]
  },
  {
   "cell_type": "code",
   "execution_count": 99,
   "id": "881e61f9-c0c3-46d4-a1dd-c8421db47355",
   "metadata": {},
   "outputs": [
    {
     "data": {
      "text/plain": [
       "(10, 10.0, True)"
      ]
     },
     "execution_count": 99,
     "metadata": {},
     "output_type": "execute_result"
    }
   ],
   "source": [
    "str1 = '10'\n",
    "int(str1),float(str1),bool(str1)"
   ]
  },
  {
   "cell_type": "code",
   "execution_count": 101,
   "id": "46ccdb45-126b-4043-8717-3021dbc79716",
   "metadata": {},
   "outputs": [
    {
     "data": {
      "text/plain": [
       "10.6"
      ]
     },
     "execution_count": 101,
     "metadata": {},
     "output_type": "execute_result"
    }
   ],
   "source": [
    "float('10.6')"
   ]
  },
  {
   "cell_type": "code",
   "execution_count": 103,
   "id": "e571a6c1-b7cf-474a-89f9-1ae9c5de8471",
   "metadata": {},
   "outputs": [
    {
     "ename": "ValueError",
     "evalue": "invalid literal for int() with base 10: '10.5'",
     "output_type": "error",
     "traceback": [
      "\u001b[0;31m---------------------------------------------------------------------------\u001b[0m",
      "\u001b[0;31mValueError\u001b[0m                                Traceback (most recent call last)",
      "Cell \u001b[0;32mIn[103], line 1\u001b[0m\n\u001b[0;32m----> 1\u001b[0m \u001b[38;5;28mint\u001b[39m(\u001b[38;5;124m'\u001b[39m\u001b[38;5;124m10.5\u001b[39m\u001b[38;5;124m'\u001b[39m)\n",
      "\u001b[0;31mValueError\u001b[0m: invalid literal for int() with base 10: '10.5'"
     ]
    }
   ],
   "source": [
    "int('10.5')"
   ]
  },
  {
   "cell_type": "code",
   "execution_count": 108,
   "id": "dadd824c-90cf-4ec1-967d-96a5b13d1074",
   "metadata": {},
   "outputs": [
    {
     "data": {
      "text/plain": [
       "'105'"
      ]
     },
     "execution_count": 108,
     "metadata": {},
     "output_type": "execute_result"
    }
   ],
   "source": [
    "str('10' + '5')"
   ]
  },
  {
   "cell_type": "code",
   "execution_count": 112,
   "id": "fecd32f8-64f4-47a2-9bb8-7c207632e7c3",
   "metadata": {},
   "outputs": [
    {
     "data": {
      "text/plain": [
       "1"
      ]
     },
     "execution_count": 112,
     "metadata": {},
     "output_type": "execute_result"
    }
   ],
   "source": [
    "int(True)"
   ]
  },
  {
   "cell_type": "code",
   "execution_count": 114,
   "id": "c7720b54-17dd-417a-b2d1-ccadc5da1743",
   "metadata": {},
   "outputs": [
    {
     "data": {
      "text/plain": [
       "1.0"
      ]
     },
     "execution_count": 114,
     "metadata": {},
     "output_type": "execute_result"
    }
   ],
   "source": [
    "float(True)"
   ]
  },
  {
   "cell_type": "code",
   "execution_count": 116,
   "id": "aed1de4f-2486-47c2-9043-0f7acb4f6b0f",
   "metadata": {},
   "outputs": [
    {
     "data": {
      "text/plain": [
       "'True'"
      ]
     },
     "execution_count": 116,
     "metadata": {},
     "output_type": "execute_result"
    }
   ],
   "source": [
    "str('True')"
   ]
  },
  {
   "cell_type": "code",
   "execution_count": 118,
   "id": "e1d421da-e161-4a6b-9022-f9ebb469db0c",
   "metadata": {},
   "outputs": [
    {
     "data": {
      "text/plain": [
       "'True'"
      ]
     },
     "execution_count": 118,
     "metadata": {},
     "output_type": "execute_result"
    }
   ],
   "source": [
    "str(True)"
   ]
  },
  {
   "cell_type": "code",
   "execution_count": 120,
   "id": "4f3aa8c7-a7c9-45c4-b9ab-b45e2fab57ca",
   "metadata": {},
   "outputs": [
    {
     "data": {
      "text/plain": [
       "0"
      ]
     },
     "execution_count": 120,
     "metadata": {},
     "output_type": "execute_result"
    }
   ],
   "source": [
    "int(False)"
   ]
  },
  {
   "cell_type": "code",
   "execution_count": 122,
   "id": "6677cd22-d82d-4179-aa1e-db9eec901547",
   "metadata": {},
   "outputs": [
    {
     "data": {
      "text/plain": [
       "0.0"
      ]
     },
     "execution_count": 122,
     "metadata": {},
     "output_type": "execute_result"
    }
   ],
   "source": [
    "float(False)"
   ]
  },
  {
   "cell_type": "code",
   "execution_count": 124,
   "id": "b11d9922-5e76-47a5-9b4d-8799e8b33650",
   "metadata": {},
   "outputs": [
    {
     "data": {
      "text/plain": [
       "'False'"
      ]
     },
     "execution_count": 124,
     "metadata": {},
     "output_type": "execute_result"
    }
   ],
   "source": [
    "str(False)"
   ]
  },
  {
   "cell_type": "code",
   "execution_count": null,
   "id": "ef006f27-2a82-4482-aaaa-9951517da77f",
   "metadata": {},
   "outputs": [],
   "source": []
  }
 ],
 "metadata": {
  "kernelspec": {
   "display_name": "Python 3 (ipykernel)",
   "language": "python",
   "name": "python3"
  },
  "language_info": {
   "codemirror_mode": {
    "name": "ipython",
    "version": 3
   },
   "file_extension": ".py",
   "mimetype": "text/x-python",
   "name": "python",
   "nbconvert_exporter": "python",
   "pygments_lexer": "ipython3",
   "version": "3.12.4"
  }
 },
 "nbformat": 4,
 "nbformat_minor": 5
}
