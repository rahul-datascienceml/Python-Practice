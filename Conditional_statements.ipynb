{
 "cells": [
  {
   "cell_type": "markdown",
   "id": "37c9e5c5-e748-4855-9312-a0b0999bfa63",
   "metadata": {},
   "source": [
    "## Conditional Statements\n",
    "\n",
    "- Mantra: **Keyword -- Colon -- Indentation**\n",
    "- Common Error: **Indentation Error:** whenever we forgot to give space in next line after **if** or **else**"
   ]
  },
  {
   "cell_type": "markdown",
   "id": "74c554a4-ee86-43fc-8a83-de6b980dcf1d",
   "metadata": {},
   "source": [
    "- If we want to execute the statements using certain conditions.\n",
    "- There 3 conditional operators in Python.\n",
    "    - **if**\n",
    "    - **if-else**\n",
    "    - **if-elif-else**\n",
    "\n"
   ]
  },
  {
   "cell_type": "markdown",
   "id": "8143de64-c931-46f2-96b7-8e3469cee1ce",
   "metadata": {},
   "source": [
    "**Notes**\n",
    "- if we are using single **'='** sign that means we are storing the value and when we are using two equal to sign **'=='** this means we are comparing two things.\n",
    "- a=9 means 'a will hold value 9'\n",
    "- a==9 means 'whether a is equal to 9 or not'"
   ]
  },
  {
   "cell_type": "markdown",
   "id": "3be7bbd0-8cb0-44cd-b8e8-13da34ecfb22",
   "metadata": {},
   "source": [
    "**Case 1:** Only **if**"
   ]
  },
  {
   "cell_type": "code",
   "execution_count": null,
   "id": "054a2911-f5b3-430e-8bf7-9f37cea58a05",
   "metadata": {},
   "outputs": [],
   "source": [
    "#syntax is \n",
    "if <write some condition>:  #whenever we start any line with 'Keywords' it has to end with a colon ':'.\n",
    "    <code> #we need to give the space, this is called indentation."
   ]
  },
  {
   "cell_type": "code",
   "execution_count": 19,
   "id": "9da2f80c-0ec2-461b-910a-481d3997420f",
   "metadata": {},
   "outputs": [
    {
     "data": {
      "text/plain": [
       "True"
      ]
     },
     "execution_count": 19,
     "metadata": {},
     "output_type": "execute_result"
    }
   ],
   "source": [
    "100>10"
   ]
  },
  {
   "cell_type": "code",
   "execution_count": 9,
   "id": "6842eb44-a85a-4f09-8a0a-f8ba0b26937c",
   "metadata": {},
   "outputs": [
    {
     "name": "stdout",
     "output_type": "stream",
     "text": [
      "The answer is correct\n"
     ]
    }
   ],
   "source": [
    "if 100>10:\n",
    "    print('The answer is correct')\n",
    "\n",
    "#In this case there are following things happening:\n",
    "#Step -1 : if condition is getting satisfied which is 100>10 and answering the system as 'True'\n",
    "#Step -2: As condition is True hence the output was provided by print statement."
   ]
  },
  {
   "cell_type": "code",
   "execution_count": 23,
   "id": "85c69eca-c020-4c5f-8e0c-21081b0bb14a",
   "metadata": {},
   "outputs": [],
   "source": [
    "if 100<10:\n",
    "    print('The answer is correct') #checking here the false condition hence there is no output for this."
   ]
  },
  {
   "cell_type": "code",
   "execution_count": 25,
   "id": "f451ba2e-d190-4698-acbb-2e4e75349db6",
   "metadata": {},
   "outputs": [
    {
     "ename": "IndentationError",
     "evalue": "expected an indented block after 'if' statement on line 1 (3071490058.py, line 2)",
     "output_type": "error",
     "traceback": [
      "\u001b[0;36m  Cell \u001b[0;32mIn[25], line 2\u001b[0;36m\u001b[0m\n\u001b[0;31m    print('The answer is correct')\u001b[0m\n\u001b[0m    ^\u001b[0m\n\u001b[0;31mIndentationError\u001b[0m\u001b[0;31m:\u001b[0m expected an indented block after 'if' statement on line 1\n"
     ]
    }
   ],
   "source": [
    "if 100>10:\n",
    "print('The answer is correct')"
   ]
  },
  {
   "cell_type": "markdown",
   "id": "8af88505-fd75-4366-9ab1-486ed83ffcb8",
   "metadata": {},
   "source": [
    "**How to Read Above Error:**\n",
    "\n",
    "- Read the Cell Number: it says In[25] which means the cell number 25\n",
    "- Read the line number: it says line 2 which means error in line number 2 in that cell\n",
    "- Read the cap '^', it will tell you the exact location of the error.\n",
    "- Read the Error Type: In this case the Indentation Error "
   ]
  },
  {
   "cell_type": "code",
   "execution_count": 41,
   "id": "05092e5b-228c-4485-bb1f-0f2ba2a429dc",
   "metadata": {},
   "outputs": [
    {
     "name": "stdout",
     "output_type": "stream",
     "text": [
      "The answer is correct\n"
     ]
    }
   ],
   "source": [
    "if 100>10:\n",
    "    print('The answer is correct')"
   ]
  },
  {
   "cell_type": "markdown",
   "id": "a3792256-7e58-4c60-a1bf-3670c8cbcf61",
   "metadata": {},
   "source": [
    "**Case 1: if - else**"
   ]
  },
  {
   "cell_type": "code",
   "execution_count": null,
   "id": "d65a6ae0-0244-4cac-af71-2a997045fba6",
   "metadata": {},
   "outputs": [],
   "source": [
    "#syntax is \n",
    "if <condition statement>: #write it with colon ':'\n",
    "    <type required output if True> #indentation should be available\n",
    "else: #write with colon\n",
    "    <put your required output while the output is False> #indentation is needed"
   ]
  },
  {
   "cell_type": "code",
   "execution_count": 49,
   "id": "a6e23f05-941a-44c3-b4fd-ee44671e3776",
   "metadata": {},
   "outputs": [
    {
     "name": "stdout",
     "output_type": "stream",
     "text": [
      "The condition is false\n"
     ]
    }
   ],
   "source": [
    "if 100>100:\n",
    "    print('The condition is true')\n",
    "else:\n",
    "    print('The condition is false')\n"
   ]
  },
  {
   "cell_type": "code",
   "execution_count": 55,
   "id": "93819e25-f66e-4f94-8918-16fd8a254bb9",
   "metadata": {},
   "outputs": [
    {
     "name": "stdout",
     "output_type": "stream",
     "text": [
      "Hello!!!\n"
     ]
    },
    {
     "name": "stdin",
     "output_type": "stream",
     "text": [
      "Please enter the first number you want to  4567\n",
      "Please enter the second number you want to  7654\n"
     ]
    },
    {
     "name": "stdout",
     "output_type": "stream",
     "text": [
      "Greater number is 7654\n",
      "Bye!!!\n"
     ]
    }
   ],
   "source": [
    "#WAP to find the greater number where both the numbers should be asked from the user.\n",
    "print('Hello!!!')\n",
    "n1=eval(input('Please enter the first number you want to '))\n",
    "n2=eval(input('Please enter the second number you want to '))\n",
    "if n1>n2:\n",
    "    print(f'The greater number is {n1}')\n",
    "else:\n",
    "    print(f'Greater number is {n2}')\n",
    "print('Bye!!!')"
   ]
  },
  {
   "cell_type": "code",
   "execution_count": 83,
   "id": "bd7c8900-305a-4e0d-8a3f-400c63591d73",
   "metadata": {},
   "outputs": [
    {
     "name": "stdout",
     "output_type": "stream",
     "text": [
      "Rider: I want to go to Hinjewadi. How many kms is it?\n"
     ]
    },
    {
     "name": "stdin",
     "output_type": "stream",
     "text": [
      "Conductor: Sir it is : 34.66\n"
     ]
    },
    {
     "name": "stdout",
     "output_type": "stream",
     "text": [
      "Rider: What will be the charge?\n",
      "Conductor: The sir as the distance is more than 25 kms, there will be a per km chage.\n",
      "Rider: What is the per km charge?\n"
     ]
    },
    {
     "name": "stdin",
     "output_type": "stream",
     "text": [
      "Conductor: Sir it is: 5.78\n"
     ]
    },
    {
     "name": "stdout",
     "output_type": "stream",
     "text": [
      "Conductor: Hence sir your total fair will be : 200.33\n",
      "Rider: Thank you for the information!!!\n"
     ]
    }
   ],
   "source": [
    "#WAP where ask the user for the distance.\n",
    "#If the distance is more than 25 kms then enter the charge and print the total charge\n",
    "#if the distance is more than 25 kms then Free Ride.\n",
    "\n",
    "print('Rider: I want to go to Hinjewadi. How many kms is it?')\n",
    "distance=eval(input('Conductor: Sir it is :'))\n",
    "print('Rider: What will be the charge?')\n",
    "\n",
    "\n",
    "if distance>25:\n",
    "    print('Conductor: The sir as the distance is more than 25 kms, there will be a per km chage.')\n",
    "    print('Rider: What is the per km charge?')\n",
    "    charge=eval(input('Conductor: Sir it is:'))\n",
    "    \n",
    "    total_fair=round(distance*charge,2)\n",
    "    print(f'Conductor: Hence sir your total fair will be : {total_fair}')\n",
    "    print('Rider: Thank you for the information!!!')\n",
    "    \n",
    "else:\n",
    "    print('Conductor: Sir as the distance is less than 25kms so it will be a free ride for you.')\n",
    "    print('Rider: This government is great. They are providing free rides which is within 25 kms.')\n",
    "\n",
    "\n",
    "    "
   ]
  },
  {
   "cell_type": "code",
   "execution_count": 89,
   "id": "34e2f5f8-8f98-4c48-83a9-75ec90f68dab",
   "metadata": {},
   "outputs": [
    {
     "name": "stdout",
     "output_type": "stream",
     "text": [
      "Rider: I want to go to Hinjewadi. How many kms is it?\n"
     ]
    },
    {
     "name": "stdin",
     "output_type": "stream",
     "text": [
      "Conductor: Sir it is : 45.87\n"
     ]
    },
    {
     "name": "stdout",
     "output_type": "stream",
     "text": [
      "Rider: What will be the charge? What is free distance?\n"
     ]
    },
    {
     "name": "stdin",
     "output_type": "stream",
     "text": [
      "Sir it is:  12\n"
     ]
    },
    {
     "name": "stdout",
     "output_type": "stream",
     "text": [
      "Conductor: The sir as the distance is more than 12 kms, there will be a per km chage.\n",
      "Rider: What is the per km charge?\n"
     ]
    },
    {
     "name": "stdin",
     "output_type": "stream",
     "text": [
      "Conductor: Sir it is: 3.44\n"
     ]
    },
    {
     "name": "stdout",
     "output_type": "stream",
     "text": [
      "Conductor: Hence sir your total fair will be : 116.51\n",
      "Rider: Thank you for the information!!!\n"
     ]
    }
   ],
   "source": [
    "print('Rider: I want to go to Hinjewadi. How many kms is it?')\n",
    "distance=eval(input('Conductor: Sir it is :'))\n",
    "print('Rider: What will be the charge? What is free distance?')\n",
    "free_distance=eval(input('Sir the free distnce is: '))\n",
    "\n",
    "\n",
    "if distance>free_distance:\n",
    "    print(f'Conductor: The sir as the distance is more than {free_distance} kms, there will be a per km charge.')\n",
    "    print('Rider: What is the per km charge?')\n",
    "    charge=eval(input('Conductor: Sir it is:'))\n",
    "    \n",
    "    total_fair=round((distance-free_distance)*charge,2)\n",
    "    print(f'Conductor: Hence sir your total fair will be : {total_fair}')\n",
    "    print('Rider: Thank you for the information!!!')\n",
    "    \n",
    "else:\n",
    "    print('Conductor: Sir as the distance is less than 25kms so it will be a free ride for you.')\n",
    "    print('Rider: This government is great. They are providing free rides which is within 25 kms.')"
   ]
  },
  {
   "cell_type": "code",
   "execution_count": 107,
   "id": "1e6bd545-e124-4722-b6d4-fb5db8e61a80",
   "metadata": {},
   "outputs": [
    {
     "data": {
      "text/plain": [
       "18.6"
      ]
     },
     "execution_count": 107,
     "metadata": {},
     "output_type": "execute_result"
    }
   ],
   "source": [
    "eval('8.9') + eval('9.7')"
   ]
  },
  {
   "cell_type": "code",
   "execution_count": 111,
   "id": "e320d7d8-2890-4a5c-a873-3795cd190d99",
   "metadata": {},
   "outputs": [],
   "source": [
    "import time\n"
   ]
  },
  {
   "cell_type": "code",
   "execution_count": 113,
   "id": "436a8930-e44a-458d-94a8-667515f11dfb",
   "metadata": {},
   "outputs": [],
   "source": [
    "time.sleep(2)"
   ]
  },
  {
   "cell_type": "code",
   "execution_count": 121,
   "id": "7ab655b2-d3af-4373-bd93-e9ee73d3802f",
   "metadata": {},
   "outputs": [
    {
     "name": "stdin",
     "output_type": "stream",
     "text": [
      "Please provide the name of the course:  devops\n",
      "Please enter the name of the Institute name:  byjus\n"
     ]
    },
    {
     "name": "stdout",
     "output_type": "stream",
     "text": [
      "Bad\n"
     ]
    }
   ],
   "source": [
    "#WAP to ask the user the course name and the course name\n",
    "#if the course name is data science and institute name is Naresh IT then print 'Good' else print 'Bad'.\n",
    "\n",
    "\n",
    "course_name=input('Please provide the name of the course: ')\n",
    "inst_name=input('Please enter the name of the Institute name: ')\n",
    "\n",
    "if course_name=='Data Science' and inst_name=='Naresh IT':\n",
    "    print('Good')\n",
    "else:\n",
    "    print('Bad')"
   ]
  },
  {
   "cell_type": "code",
   "execution_count": 127,
   "id": "56e29418-f81e-4c55-948a-4dafaea823b2",
   "metadata": {},
   "outputs": [
    {
     "name": "stdin",
     "output_type": "stream",
     "text": [
      "Please provide the name of the course:  devops\n",
      "Please enter the name of the Institute name:  byjus\n"
     ]
    },
    {
     "name": "stdout",
     "output_type": "stream",
     "text": [
      "Bad\n"
     ]
    }
   ],
   "source": [
    "#WAP to ask the user the course name and the course name\n",
    "#if the course name is data science or institute name is Naresh IT then print 'Good' else print 'Bad'.\n",
    "\n",
    "\n",
    "course_name=input('Please provide the name of the course: ')\n",
    "inst_name=input('Please enter the name of the Institute name: ')\n",
    "\n",
    "if course_name=='Data Science' or inst_name=='Naresh IT':\n",
    "    print('Good')\n",
    "else:\n",
    "    print('Bad')"
   ]
  },
  {
   "cell_type": "code",
   "execution_count": 131,
   "id": "d22d4aea-55f5-450b-862e-f62edb19fd9a",
   "metadata": {},
   "outputs": [
    {
     "name": "stdin",
     "output_type": "stream",
     "text": [
      "Please provide the name of the course:  Data Science\n",
      "Please enter the name of the Institute name:  Naresh IT\n"
     ]
    },
    {
     "name": "stdout",
     "output_type": "stream",
     "text": [
      "Good\n"
     ]
    }
   ],
   "source": [
    "#WAP to ask the user the course name and the course name\n",
    "#if the course name is data science or institute name is Naresh IT then print 'Good' else print 'Bad'. \n",
    "#write it using the course and institute name as variable\n",
    "\n",
    "pref_course='Data Science' #stored course name as variable\n",
    "pref_inst='Naresh IT' #stored institute name as variable\n",
    "course_name=input('Please provide the name of the course: ')\n",
    "inst_name=input('Please enter the name of the Institute name: ')\n",
    "\n",
    "if course_name==pref_course or inst_name==pref_inst: #declared the if statement using the variable\n",
    "    print('Good')\n",
    "else:\n",
    "    print('Bad')"
   ]
  },
  {
   "cell_type": "code",
   "execution_count": 138,
   "id": "91ed1de2-e06e-4edc-a968-7caf23b64c99",
   "metadata": {},
   "outputs": [
    {
     "data": {
      "text/plain": [
       "2.5"
      ]
     },
     "execution_count": 138,
     "metadata": {},
     "output_type": "execute_result"
    }
   ],
   "source": [
    "5/2 #normal division"
   ]
  },
  {
   "cell_type": "code",
   "execution_count": 140,
   "id": "d165e7d2-d967-4c5a-930c-e0b2cfe13176",
   "metadata": {},
   "outputs": [
    {
     "data": {
      "text/plain": [
       "2"
      ]
     },
     "execution_count": 140,
     "metadata": {},
     "output_type": "execute_result"
    }
   ],
   "source": [
    "5//2 #floor division - divisor (quotiant) of the division"
   ]
  },
  {
   "cell_type": "code",
   "execution_count": 142,
   "id": "c8c83ab5-c688-4606-8a51-113b41de2b3b",
   "metadata": {},
   "outputs": [
    {
     "data": {
      "text/plain": [
       "1"
      ]
     },
     "execution_count": 142,
     "metadata": {},
     "output_type": "execute_result"
    }
   ],
   "source": [
    "5%2 #modulus operator - It gives the remainder of the division"
   ]
  },
  {
   "cell_type": "code",
   "execution_count": 150,
   "id": "58d2fc73-d968-4bf8-8a06-bbd569f6c7b1",
   "metadata": {},
   "outputs": [
    {
     "name": "stdin",
     "output_type": "stream",
     "text": [
      "Please enter a number:  45\n"
     ]
    },
    {
     "name": "stdout",
     "output_type": "stream",
     "text": [
      "The number 45 is odd\n"
     ]
    }
   ],
   "source": [
    "#WAP to ask the user to enter a number and provide the number is even or odd.\n",
    "\n",
    "num = eval(input('Please enter a number: '))\n",
    "if num%2==1:\n",
    "    print(f'The number {num} is odd')\n",
    "else:\n",
    "    print(f'The number {num} is even')"
   ]
  },
  {
   "cell_type": "code",
   "execution_count": 163,
   "id": "fe8630f0-cb9d-4d36-b96f-56c9f7a911d9",
   "metadata": {},
   "outputs": [
    {
     "name": "stdout",
     "output_type": "stream",
     "text": [
      "The number 25 is odd\n"
     ]
    }
   ],
   "source": [
    "#WAP to ask the user to get a random number between 1 to 100 and provide the number is even or odd.\n",
    "\n",
    "import random\n",
    "num=random.randint(1,100)\n",
    "\n",
    "if num%2==1:\n",
    "    print(f'The number {num} is odd')\n",
    "else:\n",
    "    print(f'The number {num} is even')"
   ]
  },
  {
   "cell_type": "markdown",
   "id": "48c707fa-165d-45aa-977b-a0ed713494e8",
   "metadata": {},
   "source": [
    "**giving number as hard code**\n",
    "num = 10\n",
    "if num%2==1:\n",
    "    print(f'The number {num} is odd')\n",
    "else:\n",
    "    print(f'The number {num} is even')\n",
    "\n",
    "*******************************************************************************\n",
    "\n",
    "**Giving input as user input**\n",
    "num = eval(input('Please enter a number: '))\n",
    "if num%2==1:\n",
    "    print(f'The number {num} is odd')\n",
    "else:\n",
    "    print(f'The number {num} is even')\n",
    "\n",
    "\n",
    "*******************************************************************************\n",
    "\n",
    "**Choosing a random number using packages**\n",
    "import random\n",
    "num=random.randint(1,100)\n",
    "\n",
    "if num%2==1:\n",
    "    print(f'The number {num} is odd')\n",
    "else:\n",
    "    print(f'The number {num} is even')\n"
   ]
  },
  {
   "cell_type": "code",
   "execution_count": 178,
   "id": "051a4a5d-8835-45a5-8d4e-04cb04fcac3f",
   "metadata": {},
   "outputs": [
    {
     "name": "stdin",
     "output_type": "stream",
     "text": [
      "Please enter a number:  1\n"
     ]
    },
    {
     "name": "stdout",
     "output_type": "stream",
     "text": [
      "Yay!!! You won!!!\n"
     ]
    }
   ],
   "source": [
    "#Gamble Game:\n",
    "#WAP where a person need to enter a number and if it matches the random number then experience the success else lost.\n",
    "\n",
    "n1=random.randint(1,10)\n",
    "n2=eval(input('Please enter a number: '))\n",
    "if n1==n2:\n",
    "    print('Yay!!! You won!!!')\n",
    "else:\n",
    "    print('Oops!!! Better Luck Next Time')"
   ]
  },
  {
   "cell_type": "code",
   "execution_count": 188,
   "id": "790e586e-50ca-4288-b078-214a7461fc74",
   "metadata": {},
   "outputs": [
    {
     "name": "stdin",
     "output_type": "stream",
     "text": [
      "Please ennter a number between 1 to 4:  6\n"
     ]
    },
    {
     "name": "stdout",
     "output_type": "stream",
     "text": [
      "Enter a valid number between 1 to 4\n"
     ]
    }
   ],
   "source": [
    "#WAP to print the words for the number from 1 to 4.\n",
    "\n",
    "n1=eval(input('Please ennter a number between 1 to 4: '))\n",
    "if n1==1:\n",
    "    print('One')\n",
    "elif n1==2:\n",
    "    print('Two')\n",
    "elif n1==3:\n",
    "    print('Three')\n",
    "elif n1==4:\n",
    "    print('Four')\n",
    "else:\n",
    "    print('Enter a valid number between 1 to 4')"
   ]
  },
  {
   "cell_type": "code",
   "execution_count": 208,
   "id": "0c8b334a-a289-47b8-85f4-d21062137aa5",
   "metadata": {},
   "outputs": [
    {
     "name": "stdin",
     "output_type": "stream",
     "text": [
      "Please enter your percentage:  64\n"
     ]
    },
    {
     "name": "stdout",
     "output_type": "stream",
     "text": [
      "Grade : D\n"
     ]
    }
   ],
   "source": [
    "#WAP based on the percentage secured:\n",
    "# if the percentage is greater than 90 then print 'A'\n",
    "# if the percentage 75-90 'B', 60-75 'C', 50-60 'D', less than 50 then 'fail'\n",
    "\n",
    "score=eval(input('Please enter your percentage: '))\n",
    "if score>90:\n",
    "    print('Grade : A')\n",
    "elif score>=75:\n",
    "    print('Grade : B')\n",
    "elif score>=60:\n",
    "    print('Grade : C')\n",
    "elif score>=50:\n",
    "    print('Grade : D')\n",
    "else:\n",
    "    print('You are failed in this exam!!!')\n"
   ]
  },
  {
   "cell_type": "code",
   "execution_count": null,
   "id": "84e91429-750b-41b7-95c7-ef69a9fa1948",
   "metadata": {},
   "outputs": [],
   "source": [
    "#WAP based on the percentage secured:\n",
    "# if the percentage is greater than 90 then print 'A'\n",
    "# if the percentage 75-90 'B', 60-75 'C', 50-60 'D', less than 50 then 'fail'\n",
    "\n",
    "score=eval(input('Please enter your percentage: '))\n",
    "if score>90:\n",
    "    print('Grade : A')\n",
    "elif score>=75:\n",
    "    print('Grade : B')\n",
    "elif score>=50:\n",
    "    print('Grade : D')\n",
    "elif score>=60:\n",
    "    print('Grade : C')\n",
    "else:\n",
    "    print('You are failed in this exam!!!')\n",
    "\n",
    "\n",
    "#This program will give the wrong output because if we enter any value which is greater than 60 and less than 75 then the condition will\n",
    "# be true at second stage only and answer will come in from that row itself."
   ]
  },
  {
   "cell_type": "code",
   "execution_count": 210,
   "id": "f0c82755-5f73-4b4f-809d-1b083f03f84f",
   "metadata": {},
   "outputs": [
    {
     "name": "stdin",
     "output_type": "stream",
     "text": [
      "Please enter your percentage:  67\n"
     ]
    },
    {
     "name": "stdout",
     "output_type": "stream",
     "text": [
      "Grade : D\n",
      "Grade : C\n"
     ]
    }
   ],
   "source": [
    "#WAP based on the percentage secured:\n",
    "# if the percentage is greater than 90 then print 'A'\n",
    "# if the percentage 75-90 'B', 60-75 'C', 50-60 'D', less than 50 then 'fail'.\n",
    "\n",
    "#Here we are using only if statement instead of nested if.\n",
    "\n",
    "score=eval(input('Please enter your percentage: '))\n",
    "if score>90:\n",
    "    print('Grade : A')\n",
    "if score>=75:\n",
    "    print('Grade : B')\n",
    "if score>=50:\n",
    "    print('Grade : D')\n",
    "if score>=60:\n",
    "    print('Grade : C')\n",
    "else:\n",
    "    print('You are failed in this exam!!!')\n",
    "\n",
    "#here each if statement is getting executed independently hence it will not call else and based on that answer is provided, \n",
    "    #only the last if and else loop is connected."
   ]
  },
  {
   "cell_type": "code",
   "execution_count": 212,
   "id": "6b32e23b-bd14-4e94-8976-671a58241d61",
   "metadata": {},
   "outputs": [
    {
     "name": "stdin",
     "output_type": "stream",
     "text": [
      "Please enter your age in years:  35\n"
     ]
    },
    {
     "name": "stdout",
     "output_type": "stream",
     "text": [
      "Middle Aged\n"
     ]
    }
   ],
   "source": [
    "#WAP for age group\n",
    "# Greater then 100 yrs then unlucky\n",
    "#60-100 then Senior Citizen\n",
    "#30-60 then Middle Aged\n",
    "#20-30 then Young aged\n",
    "#10-20 then teenage\n",
    "#else kid\n",
    "\n",
    "age=eval(input('Please enter your age in years: '))\n",
    "if age>100:\n",
    "    print('Unlucky')\n",
    "elif age>60:\n",
    "    print('Senior Citizen')\n",
    "elif age>30:\n",
    "    print('Middle Aged')\n",
    "elif age>20:\n",
    "    print('Young Aged')\n",
    "elif age>10:\n",
    "    print('Teenaged')\n",
    "else:\n",
    "    print('You are kid')"
   ]
  },
  {
   "cell_type": "code",
   "execution_count": 220,
   "id": "db3b1354-5a77-4ef6-b78a-05fd7f7f9efc",
   "metadata": {},
   "outputs": [
    {
     "name": "stdout",
     "output_type": "stream",
     "text": [
      "Driver: Where do you wan to go?\n"
     ]
    },
    {
     "name": "stdin",
     "output_type": "stream",
     "text": [
      "Passanger: I want to go to  ravet\n"
     ]
    },
    {
     "name": "stdout",
     "output_type": "stream",
     "text": [
      "What will be the charge?\n",
      "Driver: Above 50 kms it will be 10 rs per km, 25 to 50 kms it will be 5 rs per km, 10-25 kms it will be 2 rs per km and below 10 kms I will drop you for free.\n",
      "Passagner: This is great!!! How far ravet is? \n"
     ]
    },
    {
     "name": "stdin",
     "output_type": "stream",
     "text": [
      "ravet distance is :  54\n",
      "Charge will be:  10\n"
     ]
    },
    {
     "name": "stdout",
     "output_type": "stream",
     "text": [
      "The fair will be 540 rupees\n"
     ]
    }
   ],
   "source": [
    "#WAP where ask the user where do you want to go and then let me know the charges range and then tell him the \n",
    "# distance and final charge. \n",
    "#Charges are : >50 kms its 10 rs per km, 25-50 kms its 5 rs per kms, 10-25 its 2 rs per kms and below 10 its free.\n",
    "\n",
    "\n",
    "print('Driver: Where do you wan to go?')\n",
    "loc=input('Passanger: I want to go to ')\n",
    "print('What will be the charge?')\n",
    "print('Driver: Above 50 kms it will be 10 rs per km, 25 to 50 kms it will be 5 rs per km, 10-25 kms it will be 2 rs per km and below 10 kms I will drop you for free.')\n",
    "print(f'Passagner: This is great!!! How far {loc} is? ')\n",
    "dis=eval(input(f'{loc} distance is : '))\n",
    "if dis>50:\n",
    "    pkc=eval(input('Charge will be: '))\n",
    "    charge=dis*pkc\n",
    "    print(f'The fair will be {charge} rupees')\n",
    "elif dis>25:\n",
    "    pkc=eval(input('Charge will be: '))\n",
    "    charge=dis*pkc\n",
    "    print(f'The fair will be {charge} rupees')\n",
    "elif dis>10:\n",
    "    pkc=eval(input('Charge will be: '))\n",
    "    charge=dis*pkc\n",
    "    print(f'The fair will be {charge} rupees')\n",
    "else:\n",
    "    print('Sir ride is free for you!!!')\n"
   ]
  },
  {
   "cell_type": "code",
   "execution_count": 226,
   "id": "d3e81f9b-7915-4168-914c-8866bac112af",
   "metadata": {},
   "outputs": [
    {
     "name": "stdin",
     "output_type": "stream",
     "text": [
      "Please enter first number:  34\n",
      "Please enter second number:  34\n"
     ]
    },
    {
     "name": "stdout",
     "output_type": "stream",
     "text": [
      "Please enter 1 for Addition\n",
      "Please enter 2 for Subtraction\n",
      "Please enter 3 for Multiplication\n",
      "Please enter 4 for Division\n"
     ]
    },
    {
     "name": "stdin",
     "output_type": "stream",
     "text": [
      "Please help which operation you are looking for:  5\n"
     ]
    },
    {
     "name": "stdout",
     "output_type": "stream",
     "text": [
      "Enter a valid operation!!!\n"
     ]
    }
   ],
   "source": [
    "#WAP to develop a calculator\n",
    "\n",
    "n1=eval(input('Please enter first number: '))\n",
    "n2=eval(input('Please enter second number: '))\n",
    "print('Please enter 1 for Addition')\n",
    "print('Please enter 2 for Subtraction')\n",
    "print('Please enter 3 for Multiplication')\n",
    "print('Please enter 4 for Division')\n",
    "ops=eval(input('Please help which operation you are looking for: '))\n",
    "if ops==1:\n",
    "    print(n1+n2)\n",
    "elif ops==2:\n",
    "    print(n1-n2)\n",
    "elif ops==3:\n",
    "    print(n1*n2)\n",
    "elif ops==4:\n",
    "    print(n1/n2)\n",
    "else:\n",
    "    print('Enter a valid operation!!!')"
   ]
  },
  {
   "cell_type": "code",
   "execution_count": 232,
   "id": "35318bc1-a079-471c-8f66-87a983d3a22a",
   "metadata": {},
   "outputs": [
    {
     "name": "stdin",
     "output_type": "stream",
     "text": [
      "Please enter the number:  -90\n"
     ]
    },
    {
     "name": "stdout",
     "output_type": "stream",
     "text": [
      "The number is Negative integer.\n"
     ]
    }
   ],
   "source": [
    "#WAP to tell whether the number entered is positive, negative integer or zero.\n",
    "\n",
    "n1=eval(input('Please enter the number: '))\n",
    "if n1>=0:\n",
    "    if n1==0:\n",
    "        print('The number is Zero.')\n",
    "    else:\n",
    "        print('The number is Positive integer.')\n",
    "else:\n",
    "    print('The number is Negative integer.')"
   ]
  },
  {
   "cell_type": "code",
   "execution_count": 242,
   "id": "8af13f0e-d26a-4eb1-ac3f-6832190e1fbe",
   "metadata": {},
   "outputs": [
    {
     "name": "stdin",
     "output_type": "stream",
     "text": [
      "Please help me with your gender:  Female\n",
      "Please help me with your age:  33\n"
     ]
    },
    {
     "name": "stdout",
     "output_type": "stream",
     "text": [
      "Middle Age Woman\n"
     ]
    }
   ],
   "source": [
    "#ASk the user the gender:\n",
    "# if 'Male' age >60 senior citizen, 30-60 Middle Age Man, 10-30 Young Boy, else kid\n",
    "# if Female age>60 senior citizen lady, 30-60 Middle aged woman, 10-30 Girl, else kid\n",
    "#if gender is other then print enter the valid gender\n",
    "\n",
    "\n",
    "gender=input('Please help me with your gender: ')\n",
    "age=eval(input('Please help me with your age: '))\n",
    "\n",
    "if gender=='Female':\n",
    "    if age>60:\n",
    "        print('Senior Citizen Lady')\n",
    "    elif age>30:\n",
    "        print('Middle Age Woman')\n",
    "    elif age>10:\n",
    "        print('Girl')\n",
    "    else:\n",
    "        print('Kid')\n",
    "elif gender=='Male':\n",
    "    if age>60:\n",
    "        print('Senior Citizen Man')\n",
    "    elif age>30:\n",
    "        print('Middle Age Man')\n",
    "    elif age>10:\n",
    "        print('Boy')\n",
    "    else:\n",
    "        print('Kid')\n",
    "else:\n",
    "    print('Enter a valid gender')"
   ]
  },
  {
   "cell_type": "code",
   "execution_count": null,
   "id": "1f0cc9e9-404d-4557-8413-4bace2d463b5",
   "metadata": {},
   "outputs": [],
   "source": []
  }
 ],
 "metadata": {
  "kernelspec": {
   "display_name": "Python 3 (ipykernel)",
   "language": "python",
   "name": "python3"
  },
  "language_info": {
   "codemirror_mode": {
    "name": "ipython",
    "version": 3
   },
   "file_extension": ".py",
   "mimetype": "text/x-python",
   "name": "python",
   "nbconvert_exporter": "python",
   "pygments_lexer": "ipython3",
   "version": "3.12.4"
  }
 },
 "nbformat": 4,
 "nbformat_minor": 5
}
