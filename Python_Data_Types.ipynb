{
 "cells": [
  {
   "cell_type": "markdown",
   "id": "a5e1f5e5-ee46-4c18-bf6a-c9958289e9f5",
   "metadata": {},
   "source": [
    "## Data Types"
   ]
  },
  {
   "cell_type": "markdown",
   "id": "dbb30374-66a3-43ab-a926-76386659f29d",
   "metadata": {},
   "source": [
    "- Python has many Data Types\n",
    "   - There are 4 main data types\n",
    "       - 1. Integer  - int\n",
    "       - 2. Float  - float\n",
    "       - 3. String  - str\n",
    "       - 4. Boolean  - bool"
   ]
  },
  {
   "cell_type": "markdown",
   "id": "6c49295e-a7f1-4c82-a74f-738cd8484403",
   "metadata": {},
   "source": [
    "**1. Integers (int)**\n",
    "\n",
    "- In Python there is no need to declare the data type, it understand the data type automatically\n",
    "- In order to check the type of a vriable we will use keyword inbuilt function called as 'type'\n",
    "    - type(variable)\n",
    "- We can use the direct value to find the data type of that value"
   ]
  },
  {
   "cell_type": "markdown",
   "id": "f06cd8f5-e228-402f-b7cc-bde84f61919d",
   "metadata": {},
   "source": [
    "- We have different other mathematical presentation as well\n",
    "- There are mainly 4 types:\n",
    "    - Binary: It has 2 numbers only which are 0 and 1. In python we present it in 0b1101 like this.\n",
    "    - Octa: It has 8 number which are 0,1,2,3,4,5,6,7. We represent it in python as 0O1174 so basical zero then letter 'O'. This is not case sensitive as well.\n",
    "    - Decimal: It is the basic number which are 10 number i.e. 0,1,2,3,4,5,6,7,8,9\n",
    "    - Hexa: It has 16 numbers which are 0,1,2,3,4,5,6,7,8,9,A,B,C,D,E,F. To present it in Python we need to use 0X, letter 'X' after zero. 0X34AB"
   ]
  },
  {
   "cell_type": "markdown",
   "id": "54ce19f3-aa31-4ba7-ac8a-2be866526ae8",
   "metadata": {},
   "source": [
    "**2. Float (float)**\n",
    "\n",
    "- Any decimal number falled under the category of Float data type. Ex. 10.5, 12.66 etc\n"
   ]
  },
  {
   "cell_type": "markdown",
   "id": "48101740-d37e-431d-a218-eda0f057e90e",
   "metadata": {},
   "source": [
    "\n",
    "\n",
    "**Extra Notes**\n",
    "- In Jupyter notebook by default the last value will be printed. If we have 10,20 the it will return both as 10,20 however if will have 10 and then in next line 20 , this case it will return 20 only.\n",
    "- If we have a number like 10e3 this means 10 is getting multiplied by the 10^3 so the output will be 10x10^3=10000. By default it will return float value\n",
    "- The similar above case will happen if we write 10e+3\n",
    "- IF we have 10e-3, this means 10 will be devided by 10^3 which means the output will be 10/1000 = 0.01.\n",
    "- In Python 1e-4 will give the answer in Float, after that 1e-5 onwards it will return the same which we should consider as zero\n",
    "    - In all the above cases 'e' means exponential\n",
    "    - In Machine Learning we often see this exponential values\n",
    "    - In Machine Learning with Python we rarely see the output as 0.0, it may return the answer as 1.2345e-17 which is close to zero."
   ]
  },
  {
   "cell_type": "markdown",
   "id": "aa3517a2-3090-45fe-8304-d2455e7fc731",
   "metadata": {},
   "source": [
    "**3. String (str)**\n",
    "\n",
    "- Strings represents generally the English or the Characters.\n",
    "- Any value which is in quotes, it will be in string data type only be it we enter an interger. The moment we use quotes or string data type the color will change to RED.\n",
    "- Strings can be represented with quotes\n",
    "    - Single Quote: str1='python' it will give output as 'python' (with quotes). If we use print statement like print(str1) then it will return python with quotes.\n",
    "    - Double Quote: str1=\"python\" it will give output as 'python' (with quotes). If we use print statement like print(str1) then it will return python with quotes.\n",
    "    - Triple Quote: This will be used when we want any specific word in a string in a quote. For example: I love 'Python', in this case we need to declare the variable like \"I like 'Python'\". In this case we used triple quotes for python at the end. refer line 91 and 92\n",
    "    - Triple quotes is used for multiline text. This is called 'docstring'\n",
    "    - In general we use the triple quotes to comment the code in VS Code, PyCharm or other Python IDEs. Because in Jupyter notebook we have MarkDown, however in other platforms we do not have this facility."
   ]
  },
  {
   "cell_type": "markdown",
   "id": "a3012ab2-c6cb-4f9e-8c82-a31517cdae16",
   "metadata": {},
   "source": [
    "**4. Boolean (bool)**\n",
    "\n",
    "- Computer takes the value in Binary format which is 0 and 1\n",
    "- Computer gives answer the in Boolean format which is True and False only. \n",
    "    - True = 1\n",
    "    - False = 0\n",
    "- Boolean is case sensitive. It has to be written like True and False, not like true or TRUE\n"
   ]
  },
  {
   "cell_type": "code",
   "execution_count": 12,
   "id": "30c3ab20-760c-45e5-ba8b-c413351a89ec",
   "metadata": {},
   "outputs": [
    {
     "data": {
      "text/plain": [
       "str"
      ]
     },
     "execution_count": 12,
     "metadata": {},
     "output_type": "execute_result"
    }
   ],
   "source": [
    "type('Rahul')"
   ]
  },
  {
   "cell_type": "code",
   "execution_count": 7,
   "id": "6e58406e-2fa3-42b9-b0f5-276f7e404e5d",
   "metadata": {},
   "outputs": [
    {
     "data": {
      "text/plain": [
       "int"
      ]
     },
     "execution_count": 7,
     "metadata": {},
     "output_type": "execute_result"
    }
   ],
   "source": [
    "num=100\n",
    "type(num)"
   ]
  },
  {
   "cell_type": "code",
   "execution_count": 14,
   "id": "d2380321-bd00-448e-90dc-47e87857f551",
   "metadata": {},
   "outputs": [
    {
     "data": {
      "text/plain": [
       "7"
      ]
     },
     "execution_count": 14,
     "metadata": {},
     "output_type": "execute_result"
    }
   ],
   "source": [
    "0b111"
   ]
  },
  {
   "cell_type": "code",
   "execution_count": 16,
   "id": "3e29e822-d5bc-4a6c-9d7d-6e30e7dbc449",
   "metadata": {},
   "outputs": [
    {
     "data": {
      "text/plain": [
       "54"
      ]
     },
     "execution_count": 16,
     "metadata": {},
     "output_type": "execute_result"
    }
   ],
   "source": [
    "0b00110110"
   ]
  },
  {
   "cell_type": "code",
   "execution_count": 23,
   "id": "45a5aaf2-7362-41c2-8f95-95d3ec3be865",
   "metadata": {},
   "outputs": [
    {
     "data": {
      "text/plain": [
       "38699"
      ]
     },
     "execution_count": 23,
     "metadata": {},
     "output_type": "execute_result"
    }
   ],
   "source": [
    "0o113453"
   ]
  },
  {
   "cell_type": "code",
   "execution_count": 29,
   "id": "f9ae6d3b-8ae6-4c04-9a37-4ced0845da7c",
   "metadata": {},
   "outputs": [
    {
     "data": {
      "text/plain": [
       "502"
      ]
     },
     "execution_count": 29,
     "metadata": {},
     "output_type": "execute_result"
    }
   ],
   "source": [
    "0o766"
   ]
  },
  {
   "cell_type": "code",
   "execution_count": 32,
   "id": "c176f3be-719f-4697-bdbf-381380600c6f",
   "metadata": {},
   "outputs": [
    {
     "data": {
      "text/plain": [
       "1926"
      ]
     },
     "execution_count": 32,
     "metadata": {},
     "output_type": "execute_result"
    }
   ],
   "source": [
    "0x786"
   ]
  },
  {
   "cell_type": "code",
   "execution_count": 34,
   "id": "37231397-4faa-4a03-96dc-c07e5d0fe7e1",
   "metadata": {},
   "outputs": [
    {
     "data": {
      "text/plain": [
       "1194684"
      ]
     },
     "execution_count": 34,
     "metadata": {},
     "output_type": "execute_result"
    }
   ],
   "source": [
    "0x123abc"
   ]
  },
  {
   "cell_type": "code",
   "execution_count": 36,
   "id": "bebfed90-7cfe-49f7-a11d-400c9da1a952",
   "metadata": {},
   "outputs": [
    {
     "data": {
      "text/plain": [
       "2748"
      ]
     },
     "execution_count": 36,
     "metadata": {},
     "output_type": "execute_result"
    }
   ],
   "source": [
    "0xabc"
   ]
  },
  {
   "cell_type": "code",
   "execution_count": 40,
   "id": "08dd9d24-86a9-41ab-96e3-7ffa7b4c8619",
   "metadata": {},
   "outputs": [
    {
     "data": {
      "text/plain": [
       "(int, float)"
      ]
     },
     "execution_count": 40,
     "metadata": {},
     "output_type": "execute_result"
    }
   ],
   "source": [
    "\n",
    "type(10),type(10.5)"
   ]
  },
  {
   "cell_type": "code",
   "execution_count": 42,
   "id": "f175f03a-cb3f-4459-bf80-35db1e516e66",
   "metadata": {},
   "outputs": [
    {
     "data": {
      "text/plain": [
       "100.0"
      ]
     },
     "execution_count": 42,
     "metadata": {},
     "output_type": "execute_result"
    }
   ],
   "source": [
    "10e1"
   ]
  },
  {
   "cell_type": "code",
   "execution_count": 44,
   "id": "03dfba4a-46f3-416d-b29b-8b0febc53979",
   "metadata": {},
   "outputs": [
    {
     "data": {
      "text/plain": [
       "100000.0"
      ]
     },
     "execution_count": 44,
     "metadata": {},
     "output_type": "execute_result"
    }
   ],
   "source": [
    "10e4"
   ]
  },
  {
   "cell_type": "code",
   "execution_count": 47,
   "id": "ac2bb69d-8083-4fff-bd70-a9c2e32258bb",
   "metadata": {},
   "outputs": [
    {
     "data": {
      "text/plain": [
       "10.0"
      ]
     },
     "execution_count": 47,
     "metadata": {},
     "output_type": "execute_result"
    }
   ],
   "source": [
    "10e0"
   ]
  },
  {
   "cell_type": "code",
   "execution_count": 53,
   "id": "ad7c8a23-6325-4a64-9022-9ddcd03362df",
   "metadata": {},
   "outputs": [
    {
     "name": "stdout",
     "output_type": "stream",
     "text": [
      "100.0\n",
      "1000.0\n",
      "10000.0\n"
     ]
    }
   ],
   "source": [
    "print(10e1)\n",
    "print(10e2)\n",
    "print(10e3)"
   ]
  },
  {
   "cell_type": "code",
   "execution_count": 56,
   "id": "57191b1d-edd9-46b2-b9b1-a011c6196d62",
   "metadata": {},
   "outputs": [
    {
     "data": {
      "text/plain": [
       "100.0"
      ]
     },
     "execution_count": 56,
     "metadata": {},
     "output_type": "execute_result"
    }
   ],
   "source": [
    "10e+1"
   ]
  },
  {
   "cell_type": "code",
   "execution_count": 58,
   "id": "55930ae8-3383-4b38-a78c-ab49edbc071d",
   "metadata": {},
   "outputs": [
    {
     "data": {
      "text/plain": [
       "1000.0"
      ]
     },
     "execution_count": 58,
     "metadata": {},
     "output_type": "execute_result"
    }
   ],
   "source": [
    "10e+2"
   ]
  },
  {
   "cell_type": "code",
   "execution_count": 61,
   "id": "69d2f9fa-801a-4cb7-afc9-8681529887ef",
   "metadata": {},
   "outputs": [
    {
     "data": {
      "text/plain": [
       "1000.0"
      ]
     },
     "execution_count": 61,
     "metadata": {},
     "output_type": "execute_result"
    }
   ],
   "source": [
    "10E2"
   ]
  },
  {
   "cell_type": "code",
   "execution_count": 63,
   "id": "d708f41c-e30a-4549-ba10-31544cdfaf46",
   "metadata": {},
   "outputs": [
    {
     "data": {
      "text/plain": [
       "0.1"
      ]
     },
     "execution_count": 63,
     "metadata": {},
     "output_type": "execute_result"
    }
   ],
   "source": [
    "10e-2"
   ]
  },
  {
   "cell_type": "code",
   "execution_count": 65,
   "id": "3272466f-c990-4ec0-89bd-76f15c521b18",
   "metadata": {},
   "outputs": [
    {
     "data": {
      "text/plain": [
       "0.01"
      ]
     },
     "execution_count": 65,
     "metadata": {},
     "output_type": "execute_result"
    }
   ],
   "source": [
    "10e-3"
   ]
  },
  {
   "cell_type": "code",
   "execution_count": 71,
   "id": "2ae3bc14-3328-4b89-85d7-9181f006c53d",
   "metadata": {},
   "outputs": [
    {
     "data": {
      "text/plain": [
       "1.2345e-17"
      ]
     },
     "execution_count": 71,
     "metadata": {},
     "output_type": "execute_result"
    }
   ],
   "source": [
    "1.2345e-17"
   ]
  },
  {
   "cell_type": "code",
   "execution_count": 73,
   "id": "342c2838-c9bb-4252-9a34-041bc3bb7dc6",
   "metadata": {},
   "outputs": [
    {
     "data": {
      "text/plain": [
       "1e-16"
      ]
     },
     "execution_count": 73,
     "metadata": {},
     "output_type": "execute_result"
    }
   ],
   "source": [
    "10e-17"
   ]
  },
  {
   "cell_type": "code",
   "execution_count": 75,
   "id": "10e757c6-5097-430e-84fe-a5894712ae00",
   "metadata": {},
   "outputs": [
    {
     "data": {
      "text/plain": [
       "0.01"
      ]
     },
     "execution_count": 75,
     "metadata": {},
     "output_type": "execute_result"
    }
   ],
   "source": [
    "1e-2"
   ]
  },
  {
   "cell_type": "code",
   "execution_count": 79,
   "id": "e5817e64-82f3-451b-aaa4-f25d8aef46f4",
   "metadata": {},
   "outputs": [
    {
     "data": {
      "text/plain": [
       "'python'"
      ]
     },
     "execution_count": 79,
     "metadata": {},
     "output_type": "execute_result"
    }
   ],
   "source": [
    "str1 = 'python'\n",
    "str2 = \"python\"\n",
    "str1"
   ]
  },
  {
   "cell_type": "code",
   "execution_count": 81,
   "id": "6add19bf-5dd9-474b-ad54-2dd7e22f25d2",
   "metadata": {},
   "outputs": [
    {
     "data": {
      "text/plain": [
       "'python'"
      ]
     },
     "execution_count": 81,
     "metadata": {},
     "output_type": "execute_result"
    }
   ],
   "source": [
    "str2"
   ]
  },
  {
   "cell_type": "code",
   "execution_count": 83,
   "id": "aa6a9371-b8a3-45a3-8a4d-c1da26933da4",
   "metadata": {},
   "outputs": [
    {
     "name": "stdout",
     "output_type": "stream",
     "text": [
      "python\n"
     ]
    }
   ],
   "source": [
    "print(str1)"
   ]
  },
  {
   "cell_type": "code",
   "execution_count": 85,
   "id": "394b9f01-1630-42bd-8c2f-dcd12bf77a06",
   "metadata": {},
   "outputs": [
    {
     "name": "stdout",
     "output_type": "stream",
     "text": [
      "python\n"
     ]
    }
   ],
   "source": [
    "print(str2)\n"
   ]
  },
  {
   "cell_type": "code",
   "execution_count": 90,
   "id": "a1ab668d-7dc9-48ce-bf94-4255c8a441f2",
   "metadata": {},
   "outputs": [
    {
     "name": "stdout",
     "output_type": "stream",
     "text": [
      "I like \"Python\"\n"
     ]
    }
   ],
   "source": [
    "str1 = 'I like \"Python\"'\n",
    "print(str1)"
   ]
  },
  {
   "cell_type": "code",
   "execution_count": 92,
   "id": "c1b54d0f-260c-4caf-ada2-c5a6161dec86",
   "metadata": {},
   "outputs": [
    {
     "name": "stdout",
     "output_type": "stream",
     "text": [
      "I Like 'Python'\n"
     ]
    }
   ],
   "source": [
    "str2=\"I Like 'Python'\"\n",
    "print(str2)"
   ]
  },
  {
   "cell_type": "code",
   "execution_count": 103,
   "id": "c221552f-b0ff-4d7d-b2de-4b7ff8722c3b",
   "metadata": {},
   "outputs": [
    {
     "name": "stdout",
     "output_type": "stream",
     "text": [
      "Hi\n",
      "How are you\n"
     ]
    }
   ],
   "source": [
    "str3 = \"\"\"Hi\n",
    "How are you\"\"\"\n",
    "print(str3)"
   ]
  },
  {
   "cell_type": "code",
   "execution_count": 111,
   "id": "ad2a13cf-9c30-4ba4-9142-f76a22acd606",
   "metadata": {},
   "outputs": [
    {
     "name": "stdout",
     "output_type": "stream",
     "text": [
      "True\n"
     ]
    }
   ],
   "source": [
    "val=True\n",
    "print(val)"
   ]
  },
  {
   "cell_type": "code",
   "execution_count": 114,
   "id": "bfd1c4d2-5cc3-4e4d-85de-692f4af927ee",
   "metadata": {},
   "outputs": [],
   "source": [
    "a=10\n",
    "b=10.5\n",
    "c='ten'\n",
    "d=True"
   ]
  },
  {
   "cell_type": "code",
   "execution_count": 116,
   "id": "d136249c-971f-43ea-82ac-4aac04128fdb",
   "metadata": {},
   "outputs": [
    {
     "data": {
      "text/plain": [
       "(int, float, str, bool)"
      ]
     },
     "execution_count": 116,
     "metadata": {},
     "output_type": "execute_result"
    }
   ],
   "source": [
    "type(a), type(b), type(c), type(d)"
   ]
  },
  {
   "cell_type": "code",
   "execution_count": 1,
   "id": "92c2b029-f2a4-45e0-8de9-e413b232319f",
   "metadata": {},
   "outputs": [
    {
     "data": {
      "text/plain": [
       "'/Users/rahulgoyal/Documents/NareshIT/Python'"
      ]
     },
     "execution_count": 1,
     "metadata": {},
     "output_type": "execute_result"
    }
   ],
   "source": [
    "import os\n",
    "os.getcwd()"
   ]
  },
  {
   "cell_type": "code",
   "execution_count": null,
   "id": "c9d551ad-f588-4cff-9c03-d9fb99680771",
   "metadata": {},
   "outputs": [],
   "source": []
  }
 ],
 "metadata": {
  "kernelspec": {
   "display_name": "Python 3 (ipykernel)",
   "language": "python",
   "name": "python3"
  },
  "language_info": {
   "codemirror_mode": {
    "name": "ipython",
    "version": 3
   },
   "file_extension": ".py",
   "mimetype": "text/x-python",
   "name": "python",
   "nbconvert_exporter": "python",
   "pygments_lexer": "ipython3",
   "version": "3.12.4"
  }
 },
 "nbformat": 4,
 "nbformat_minor": 5
}
